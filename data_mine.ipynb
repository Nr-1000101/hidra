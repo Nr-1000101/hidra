{
 "cells": [
  {
   "cell_type": "code",
   "execution_count": null,
   "id": "007dabe1-e6e7-4dff-89d6-cc0b5a6824ef",
   "metadata": {},
   "outputs": [
    {
     "name": "stderr",
     "output_type": "stream",
     "text": [
      "[22:45:40] Both bonds on one end of an atropisomer are on the same side - atoms are: 1 0\n"
     ]
    },
    {
     "name": "stdout",
     "output_type": "stream",
     "text": [
      "Processed 10000 molecules...\n",
      "Processed 20000 molecules...\n",
      "Processed 30000 molecules...\n",
      "Processed 40000 molecules...\n",
      "Processed 50000 molecules...\n",
      "Processed 60000 molecules...\n",
      "Processed 70000 molecules...\n",
      "Processed 80000 molecules...\n",
      "Processed 90000 molecules...\n",
      "Processed 100000 molecules...\n",
      "Processed 110000 molecules...\n",
      "Processed 120000 molecules...\n",
      "Processed 130000 molecules...\n"
     ]
    },
    {
     "name": "stderr",
     "output_type": "stream",
     "text": [
      "[22:48:14] Both bonds on one end of an atropisomer are on the same side - atoms are: 1 3\n"
     ]
    },
    {
     "name": "stdout",
     "output_type": "stream",
     "text": [
      "Processed 140000 molecules...\n"
     ]
    },
    {
     "name": "stderr",
     "output_type": "stream",
     "text": [
      "[22:48:30] Both bonds on one end of an atropisomer are on the same side - atoms are: 0 1\n"
     ]
    },
    {
     "name": "stdout",
     "output_type": "stream",
     "text": [
      "Processed 150000 molecules...\n",
      "Processed 160000 molecules...\n"
     ]
    },
    {
     "name": "stderr",
     "output_type": "stream",
     "text": [
      "[22:49:01] Both bonds on one end of an atropisomer are on the same side - atoms are: 1 4\n",
      "[22:49:04] Both bonds on one end of an atropisomer are on the same side - atoms are: 1 0\n"
     ]
    },
    {
     "name": "stdout",
     "output_type": "stream",
     "text": [
      "Processed 170000 molecules...\n",
      "Processed 180000 molecules...\n",
      "Processed 190000 molecules...\n",
      "Processed 200000 molecules...\n",
      "Processed 210000 molecules...\n",
      "Processed 220000 molecules...\n"
     ]
    },
    {
     "name": "stderr",
     "output_type": "stream",
     "text": [
      "[22:50:13] Both bonds on one end of an atropisomer are on the same side - atoms are: 1 5\n"
     ]
    },
    {
     "name": "stdout",
     "output_type": "stream",
     "text": [
      "Processed 230000 molecules...\n",
      "Processed 240000 molecules...\n",
      "Processed 250000 molecules...\n"
     ]
    },
    {
     "name": "stderr",
     "output_type": "stream",
     "text": [
      "[22:50:44] Both bonds on one end of an atropisomer are on the same side - atoms are: 1 4\n",
      "[22:50:47] Both bonds on one end of an atropisomer are on the same side - atoms are: 1 0\n",
      "[22:50:49] Both bonds on one end of an atropisomer are on the same side - atoms are: 1 0\n"
     ]
    },
    {
     "name": "stdout",
     "output_type": "stream",
     "text": [
      "Processed 260000 molecules...\n",
      "Processed 270000 molecules...\n",
      "Processed 280000 molecules...\n",
      "Processed 290000 molecules...\n",
      "Processed 300000 molecules...\n",
      "Processed 310000 molecules...\n",
      "Processed 320000 molecules...\n"
     ]
    },
    {
     "name": "stderr",
     "output_type": "stream",
     "text": [
      "[22:52:06] Both bonds on one end of an atropisomer are on the same side - atoms are: 1 4\n"
     ]
    },
    {
     "name": "stdout",
     "output_type": "stream",
     "text": [
      "Processed 330000 molecules...\n"
     ]
    },
    {
     "name": "stderr",
     "output_type": "stream",
     "text": [
      "[22:52:24] Both bonds on one end of an atropisomer are on the same side - atoms are: 1 0\n"
     ]
    },
    {
     "name": "stdout",
     "output_type": "stream",
     "text": [
      "Processed 340000 molecules...\n"
     ]
    },
    {
     "name": "stderr",
     "output_type": "stream",
     "text": [
      "[22:52:28] Both bonds on one end of an atropisomer are on the same side - atoms are: 1 4\n"
     ]
    },
    {
     "name": "stdout",
     "output_type": "stream",
     "text": [
      "Processed 350000 molecules...\n"
     ]
    },
    {
     "name": "stderr",
     "output_type": "stream",
     "text": [
      "[22:52:50] Both bonds on one end of an atropisomer are on the same side - atoms are: 2 0\n"
     ]
    },
    {
     "name": "stdout",
     "output_type": "stream",
     "text": [
      "Processed 360000 molecules...\n"
     ]
    },
    {
     "name": "stderr",
     "output_type": "stream",
     "text": [
      "[22:52:53] Both bonds on one end of an atropisomer are on the same side - atoms are: 0 3\n",
      "[22:52:53] Both bonds on one end of an atropisomer are on the same side - atoms are: 4 3\n",
      "[22:52:55] Both bonds on one end of an atropisomer are on the same side - atoms are: 1 6\n",
      "[22:52:57] Both bonds on one end of an atropisomer are on the same side - atoms are: 13 10\n",
      "[22:52:57] Both bonds on one end of an atropisomer are on the same side - atoms are: 10 5\n",
      "[22:52:57] Both bonds on one end of an atropisomer are on the same side - atoms are: 9 4\n",
      "[22:52:59] Both bonds on one end of an atropisomer are on the same side - atoms are: 0 1\n",
      "[22:53:00] The 2 defining bonds for an atropisomer are co-planar - atoms are: 7 4\n",
      "[22:53:00] The 2 defining bonds for an atropisomer are co-planar - atoms are: 2 3\n",
      "[22:53:01] Both bonds on one end of an atropisomer are on the same side - atoms are: 12 13\n",
      "[22:53:02] Both bonds on one end of an atropisomer are on the same side - atoms are: 4 7\n"
     ]
    },
    {
     "name": "stdout",
     "output_type": "stream",
     "text": [
      "Processed 370000 molecules...\n"
     ]
    },
    {
     "name": "stderr",
     "output_type": "stream",
     "text": [
      "[22:53:03] Both bonds on one end of an atropisomer are on the same side - atoms are: 8 10\n",
      "[22:53:04] Both bonds on one end of an atropisomer are on the same side - atoms are: 10 8\n",
      "[22:53:04] Both bonds on one end of an atropisomer are on the same side - atoms are: 11 8\n",
      "[22:53:04] Explicit valence for atom # 7 Si, 5, is greater than permitted\n",
      "[22:53:07] Both bonds on one end of an atropisomer are on the same side - atoms are: 8 6\n",
      "[22:53:07] Both bonds on one end of an atropisomer are on the same side - atoms are: 8 4\n",
      "[22:53:10] The 2 defining bonds for an atropisomer are co-planar - atoms are: 7 10\n",
      "[22:53:12] Both bonds on one end of an atropisomer are on the same side - atoms are: 0 2\n",
      "[22:53:12] Both bonds on one end of an atropisomer are on the same side - atoms are: 0 2\n",
      "[22:53:12] Both bonds on one end of an atropisomer are on the same side - atoms are: 0 2\n",
      "[22:53:12] Both bonds on one end of an atropisomer are on the same side - atoms are: 0 2\n",
      "[22:53:12] Both bonds on one end of an atropisomer are on the same side - atoms are: 0 2\n",
      "[22:53:12] Both bonds on one end of an atropisomer are on the same side - atoms are: 0 2\n",
      "[22:53:12] Both bonds on one end of an atropisomer are on the same side - atoms are: 0 4\n",
      "[22:53:12] Both bonds on one end of an atropisomer are on the same side - atoms are: 0 2\n",
      "[22:53:12] Both bonds on one end of an atropisomer are on the same side - atoms are: 0 2\n",
      "[22:53:12] Both bonds on one end of an atropisomer are on the same side - atoms are: 0 1\n"
     ]
    },
    {
     "name": "stdout",
     "output_type": "stream",
     "text": [
      "Processed 380000 molecules...\n"
     ]
    },
    {
     "name": "stderr",
     "output_type": "stream",
     "text": [
      "[22:53:15] Both bonds on one end of an atropisomer are on the same side - atoms are: 8 6\n",
      "[22:53:17] Both bonds on one end of an atropisomer are on the same side - atoms are: 1 3\n",
      "[22:53:18] Both bonds on one end of an atropisomer are on the same side - atoms are: 4 6\n",
      "[22:53:18] Both bonds on one end of an atropisomer are on the same side - atoms are: 5 7\n",
      "[22:53:19] Both bonds on one end of an atropisomer are on the same side - atoms are: 1 3\n",
      "[22:53:21] Both bonds on one end of an atropisomer are on the same side - atoms are: 4 3\n"
     ]
    },
    {
     "name": "stdout",
     "output_type": "stream",
     "text": [
      "Processed 390000 molecules...\n"
     ]
    },
    {
     "name": "stderr",
     "output_type": "stream",
     "text": [
      "[22:53:24] Both bonds on one end of an atropisomer are on the same side - atoms are: 1 3\n",
      "[22:53:26] Both bonds on one end of an atropisomer are on the same side - atoms are: 5 2\n",
      "[22:53:26] Both bonds on one end of an atropisomer are on the same side - atoms are: 6 1\n",
      "[22:53:26] Both bonds on one end of an atropisomer are on the same side - atoms are: 5 0\n",
      "[22:53:26] Both bonds on one end of an atropisomer are on the same side - atoms are: 6 2\n",
      "[22:53:29] Both bonds on one end of an atropisomer are on the same side - atoms are: 7 10\n",
      "[22:53:30] Both bonds on one end of an atropisomer are on the same side - atoms are: 5 4\n",
      "[22:53:30] Both bonds on one end of an atropisomer are on the same side - atoms are: 3 5\n",
      "[22:53:30] Both bonds on one end of an atropisomer are on the same side - atoms are: 3 6\n",
      "[22:53:30] The 2 defining bonds for an atropisomer are co-planar - atoms are: 7 6\n",
      "[22:53:30] Both bonds on one end of an atropisomer are on the same side - atoms are: 7 3\n",
      "[22:53:31] Both bonds on one end of an atropisomer are on the same side - atoms are: 0 1\n",
      "[22:53:31] Both bonds on one end of an atropisomer are on the same side - atoms are: 1 3\n",
      "[22:53:31] The 2 defining bonds for an atropisomer are co-planar - atoms are: 7 6\n",
      "[22:53:32] Both bonds on one end of an atropisomer are on the same side - atoms are: 3 5\n",
      "[22:53:32] The 2 defining bonds for an atropisomer are co-planar - atoms are: 2 3\n",
      "[22:53:32] Both bonds on one end of an atropisomer are on the same side - atoms are: 6 8\n",
      "[22:53:32] Both bonds on one end of an atropisomer are on the same side - atoms are: 4 3\n",
      "[22:53:32] The 2 defining bonds for an atropisomer are co-planar - atoms are: 5 4\n",
      "[22:53:32] Both bonds on one end of an atropisomer are on the same side - atoms are: 5 7\n"
     ]
    },
    {
     "name": "stdout",
     "output_type": "stream",
     "text": [
      "Processed 400000 molecules...\n"
     ]
    },
    {
     "name": "stderr",
     "output_type": "stream",
     "text": [
      "[22:53:33] Both bonds on one end of an atropisomer are on the same side - atoms are: 1 0\n",
      "[22:53:34] Both bonds on one end of an atropisomer are on the same side - atoms are: 1 3\n",
      "[22:53:34] Both bonds on one end of an atropisomer are on the same side - atoms are: 1 3\n",
      "[22:53:39] Both bonds on one end of an atropisomer are on the same side - atoms are: 1 3\n",
      "[22:53:40] Both bonds on one end of an atropisomer are on the same side - atoms are: 9 6\n",
      "[22:53:40] Both bonds on one end of an atropisomer are on the same side - atoms are: 9 8\n",
      "[22:53:40] Both bonds on one end of an atropisomer are on the same side - atoms are: 8 10\n",
      "[22:53:41] Both bonds on one end of an atropisomer are on the same side - atoms are: 12 11\n",
      "[22:53:42] Both bonds on one end of an atropisomer are on the same side - atoms are: 10 8\n",
      "[22:53:43] The 2 defining bonds for an atropisomer are co-planar - atoms are: 13 11\n",
      "[22:53:43] Both bonds on one end of an atropisomer are on the same side - atoms are: 0 3\n"
     ]
    },
    {
     "name": "stdout",
     "output_type": "stream",
     "text": [
      "Processed 410000 molecules...\n"
     ]
    },
    {
     "name": "stderr",
     "output_type": "stream",
     "text": [
      "[22:53:49] Both bonds on one end of an atropisomer are on the same side - atoms are: 1 3\n",
      "[22:53:49] Both bonds on one end of an atropisomer are on the same side - atoms are: 1 3\n",
      "[22:53:50] The 2 defining bonds for an atropisomer are co-planar - atoms are: 4 2\n",
      "[22:53:51] Both bonds on one end of an atropisomer are on the same side - atoms are: 0 6\n",
      "[22:53:51] Both bonds on one end of an atropisomer are on the same side - atoms are: 6 1\n",
      "[22:53:52] Both bonds on one end of an atropisomer are on the same side - atoms are: 1 0\n"
     ]
    },
    {
     "name": "stdout",
     "output_type": "stream",
     "text": [
      "Processed 420000 molecules...\n"
     ]
    },
    {
     "name": "stderr",
     "output_type": "stream",
     "text": [
      "[22:53:56] Both bonds on one end of an atropisomer are on the same side - atoms are: 4 3\n",
      "[22:53:56] Both bonds on one end of an atropisomer are on the same side - atoms are: 6 5\n",
      "[22:53:56] The 2 defining bonds for an atropisomer are co-planar - atoms are: 6 4\n",
      "[22:53:57] The 2 defining bonds for an atropisomer are co-planar - atoms are: 7 6\n",
      "[22:53:59] Both bonds on one end of an atropisomer are on the same side - atoms are: 1 3\n",
      "[22:54:02] Both bonds on one end of an atropisomer are on the same side - atoms are: 1 0\n",
      "[22:54:03] Both bonds on one end of an atropisomer are on the same side - atoms are: 10 11\n",
      "[22:54:03] Both bonds on one end of an atropisomer are on the same side - atoms are: 0 8\n",
      "[22:54:03] Both bonds on one end of an atropisomer are on the same side - atoms are: 10 8\n"
     ]
    },
    {
     "name": "stdout",
     "output_type": "stream",
     "text": [
      "Processed 430000 molecules...\n"
     ]
    },
    {
     "name": "stderr",
     "output_type": "stream",
     "text": [
      "[22:54:06] The 2 defining bonds for an atropisomer are co-planar - atoms are: 9 8\n",
      "[22:54:06] Both bonds on one end of an atropisomer are on the same side - atoms are: 6 7\n",
      "[22:54:06] Both bonds on one end of an atropisomer are on the same side - atoms are: 5 2\n",
      "[22:54:08] Both bonds on one end of an atropisomer are on the same side - atoms are: 0 3\n",
      "[22:54:08] Both bonds on one end of an atropisomer are on the same side - atoms are: 8 2\n",
      "[22:54:08] Both bonds on one end of an atropisomer are on the same side - atoms are: 6 3\n",
      "[22:54:08] The 2 defining bonds for an atropisomer are co-planar - atoms are: 8 6\n",
      "[22:54:09] The 2 defining bonds for an atropisomer are co-planar - atoms are: 10 11\n",
      "[22:54:10] Both bonds on one end of an atropisomer are on the same side - atoms are: 6 3\n",
      "[22:54:12] Both bonds on one end of an atropisomer are on the same side - atoms are: 8 14\n",
      "[22:54:12] Both bonds on one end of an atropisomer are on the same side - atoms are: 14 15\n",
      "[22:54:12] Both bonds on one end of an atropisomer are on the same side - atoms are: 5 6\n",
      "[22:54:12] Both bonds on one end of an atropisomer are on the same side - atoms are: 9 8\n",
      "[22:54:12] The 2 defining bonds for an atropisomer are co-planar - atoms are: 8 6\n"
     ]
    },
    {
     "name": "stdout",
     "output_type": "stream",
     "text": [
      "Processed 440000 molecules...\n"
     ]
    },
    {
     "name": "stderr",
     "output_type": "stream",
     "text": [
      "[22:54:14] The 2 defining bonds for an atropisomer are co-planar - atoms are: 5 8\n",
      "[22:54:15] The 2 defining bonds for an atropisomer are co-planar - atoms are: 4 5\n",
      "[22:54:15] The 2 defining bonds for an atropisomer are co-planar - atoms are: 3 4\n",
      "[22:54:16] The 2 defining bonds for an atropisomer are co-planar - atoms are: 8 2\n",
      "[22:54:16] The 2 defining bonds for an atropisomer are co-planar - atoms are: 0 2\n",
      "[22:54:19] The 2 defining bonds for an atropisomer are co-planar - atoms are: 0 9\n",
      "[22:54:19] Both bonds on one end of an atropisomer are on the same side - atoms are: 1 0\n",
      "[22:54:21] Both bonds on one end of an atropisomer are on the same side - atoms are: 11 7\n",
      "[22:54:22] Both bonds on one end of an atropisomer are on the same side - atoms are: 1 3\n",
      "[22:54:22] Both bonds on one end of an atropisomer are on the same side - atoms are: 5 6\n",
      "[22:54:26] Both bonds on one end of an atropisomer are on the same side - atoms are: 4 5\n",
      "[22:54:26] Both bonds on one end of an atropisomer are on the same side - atoms are: 2 5\n",
      "[22:54:26] Both bonds on one end of an atropisomer are on the same side - atoms are: 7 4\n",
      "[22:54:26] Both bonds on one end of an atropisomer are on the same side - atoms are: 8 6\n"
     ]
    },
    {
     "name": "stdout",
     "output_type": "stream",
     "text": [
      "Processed 450000 molecules...\n"
     ]
    },
    {
     "name": "stderr",
     "output_type": "stream",
     "text": [
      "[22:54:28] The 2 defining bonds for an atropisomer are co-planar - atoms are: 5 0\n",
      "[22:54:28] The 2 defining bonds for an atropisomer are co-planar - atoms are: 2 1\n",
      "[22:54:28] The 2 defining bonds for an atropisomer are co-planar - atoms are: 1 0\n",
      "[22:54:28] The 2 defining bonds for an atropisomer are co-planar - atoms are: 2 1\n",
      "[22:54:29] Warning: molecule is tagged as 3D, but all Z coords are zero and 2D stereo markers have been found, marking the mol as 2D.\n",
      "[22:54:30] The 2 defining bonds for an atropisomer are co-planar - atoms are: 12 10\n",
      "[22:54:32] Both bonds on one end of an atropisomer are on the same side - atoms are: 6 1\n",
      "[22:54:32] Both bonds on one end of an atropisomer are on the same side - atoms are: 0 6\n",
      "[22:54:33] Explicit valence for atom # 6 Si, 5, is greater than permitted\n",
      "[22:54:34] Both bonds on one end of an atropisomer are on the same side - atoms are: 6 8\n",
      "[22:54:34] Both bonds on one end of an atropisomer are on the same side - atoms are: 1 3\n",
      "[22:54:34] Both bonds on one end of an atropisomer are on the same side - atoms are: 1 0\n",
      "[22:54:35] Both bonds on one end of an atropisomer are on the same side - atoms are: 9 5\n",
      "[22:54:35] Both bonds on one end of an atropisomer are on the same side - atoms are: 11 10\n",
      "[22:54:35] Both bonds on one end of an atropisomer are on the same side - atoms are: 1 3\n",
      "[22:54:35] Both bonds on one end of an atropisomer are on the same side - atoms are: 0 3\n"
     ]
    },
    {
     "name": "stdout",
     "output_type": "stream",
     "text": [
      "Processed 460000 molecules...\n"
     ]
    },
    {
     "name": "stderr",
     "output_type": "stream",
     "text": [
      "[22:54:37] Both bonds on one end of an atropisomer are on the same side - atoms are: 3 5\n",
      "[22:54:37] Both bonds on one end of an atropisomer are on the same side - atoms are: 2 0\n",
      "[22:54:37] The 2 defining bonds for an atropisomer are co-planar - atoms are: 2 3\n",
      "[22:54:38] Both bonds on one end of an atropisomer are on the same side - atoms are: 11 8\n",
      "[22:54:39] The 2 defining bonds for an atropisomer are co-planar - atoms are: 4 3\n",
      "[22:54:39] Both bonds on one end of an atropisomer are on the same side - atoms are: 8 7\n",
      "[22:54:39] Both bonds on one end of an atropisomer are on the same side - atoms are: 11 12\n",
      "[22:54:39] Both bonds on one end of an atropisomer are on the same side - atoms are: 10 7\n",
      "[22:54:40] Both bonds on one end of an atropisomer are on the same side - atoms are: 6 4\n",
      "[22:54:40] Both bonds on one end of an atropisomer are on the same side - atoms are: 6 7\n",
      "[22:54:40] Both bonds on one end of an atropisomer are on the same side - atoms are: 7 5\n",
      "[22:54:41] Both bonds on one end of an atropisomer are on the same side - atoms are: 1 5\n",
      "[22:54:42] Both bonds on one end of an atropisomer are on the same side - atoms are: 1 4\n",
      "[22:54:46] Explicit valence for atom # 8 Si, 5, is greater than permitted\n",
      "[22:54:47] Both bonds on one end of an atropisomer are on the same side - atoms are: 2 0\n",
      "[22:54:47] Both bonds on one end of an atropisomer are on the same side - atoms are: 5 3\n"
     ]
    },
    {
     "name": "stdout",
     "output_type": "stream",
     "text": [
      "Processed 470000 molecules...\n"
     ]
    },
    {
     "name": "stderr",
     "output_type": "stream",
     "text": [
      "[22:54:47] The 2 defining bonds for an atropisomer are co-planar - atoms are: 3 2\n",
      "[22:54:47] Both bonds on one end of an atropisomer are on the same side - atoms are: 5 3\n",
      "[22:54:47] Both bonds on one end of an atropisomer are on the same side - atoms are: 2 0\n",
      "[22:54:47] Both bonds on one end of an atropisomer are on the same side - atoms are: 4 6\n",
      "[22:54:49] Both bonds on one end of an atropisomer are on the same side - atoms are: 4 2\n",
      "[22:54:49] Both bonds on one end of an atropisomer are on the same side - atoms are: 5 3\n",
      "[22:54:50] Both bonds on one end of an atropisomer are on the same side - atoms are: 1 3\n",
      "[22:54:57] Both bonds on one end of an atropisomer are on the same side - atoms are: 1 3\n"
     ]
    },
    {
     "name": "stdout",
     "output_type": "stream",
     "text": [
      "Processed 480000 molecules...\n"
     ]
    },
    {
     "name": "stderr",
     "output_type": "stream",
     "text": [
      "[22:54:58] Both bonds on one end of an atropisomer are on the same side - atoms are: 3 0\n",
      "[22:54:58] Both bonds on one end of an atropisomer are on the same side - atoms are: 6 5\n",
      "[22:54:59] The 2 defining bonds for an atropisomer are co-planar - atoms are: 8 10\n",
      "[22:55:00] Both bonds on one end of an atropisomer are on the same side - atoms are: 1 3\n",
      "[22:55:01] Both bonds on one end of an atropisomer are on the same side - atoms are: 4 6\n",
      "[22:55:01] The 2 defining bonds for an atropisomer are co-planar - atoms are: 3 4\n",
      "[22:55:01] Both bonds on one end of an atropisomer are on the same side - atoms are: 3 1\n",
      "[22:55:03] Both bonds on one end of an atropisomer are on the same side - atoms are: 5 7\n",
      "[22:55:03] The 2 defining bonds for an atropisomer are co-planar - atoms are: 6 2\n",
      "[22:55:03] The 2 defining bonds for an atropisomer are co-planar - atoms are: 6 5\n",
      "[22:55:03] The 2 defining bonds for an atropisomer are co-planar - atoms are: 6 4\n",
      "[22:55:03] The 2 defining bonds for an atropisomer are co-planar - atoms are: 5 4\n",
      "[22:55:06] Both bonds on one end of an atropisomer are on the same side - atoms are: 1 3\n",
      "[22:55:06] Both bonds on one end of an atropisomer are on the same side - atoms are: 0 4\n"
     ]
    },
    {
     "name": "stdout",
     "output_type": "stream",
     "text": [
      "Processed 490000 molecules...\n"
     ]
    },
    {
     "name": "stderr",
     "output_type": "stream",
     "text": [
      "[22:55:11] Both bonds on one end of an atropisomer are on the same side - atoms are: 1 3\n",
      "[22:55:13] Both bonds on one end of an atropisomer are on the same side - atoms are: 0 1\n",
      "[22:55:14] Both bonds on one end of an atropisomer are on the same side - atoms are: 9 1\n",
      "[22:55:18] Both bonds on one end of an atropisomer are on the same side - atoms are: 1 4\n",
      "[22:55:18] The 2 defining bonds for an atropisomer are co-planar - atoms are: 4 2\n"
     ]
    },
    {
     "name": "stdout",
     "output_type": "stream",
     "text": [
      "Processed 500000 molecules...\n"
     ]
    },
    {
     "name": "stderr",
     "output_type": "stream",
     "text": [
      "[22:55:21] Both bonds on one end of an atropisomer are on the same side - atoms are: 13 12\n",
      "[22:55:27] The 2 defining bonds for an atropisomer are co-planar - atoms are: 2 6\n",
      "[22:55:28] Both bonds on one end of an atropisomer are on the same side - atoms are: 10 0\n"
     ]
    },
    {
     "name": "stdout",
     "output_type": "stream",
     "text": [
      "Processed 510000 molecules...\n"
     ]
    },
    {
     "name": "stderr",
     "output_type": "stream",
     "text": [
      "[22:55:29] Both bonds on one end of an atropisomer are on the same side - atoms are: 8 7\n",
      "[22:55:29] The 2 defining bonds for an atropisomer are co-planar - atoms are: 8 12\n",
      "[22:55:30] Both bonds on one end of an atropisomer are on the same side - atoms are: 1 3\n",
      "[22:55:30] The 2 defining bonds for an atropisomer are co-planar - atoms are: 10 3\n",
      "[22:55:31] Both bonds on one end of an atropisomer are on the same side - atoms are: 1 3\n",
      "[22:55:31] Both bonds on one end of an atropisomer are on the same side - atoms are: 9 7\n",
      "[22:55:31] Both bonds on one end of an atropisomer are on the same side - atoms are: 6 5\n",
      "[22:55:33] Both bonds on one end of an atropisomer are on the same side - atoms are: 12 7\n",
      "[22:55:33] Both bonds on one end of an atropisomer are on the same side - atoms are: 11 8\n",
      "[22:55:33] The 2 defining bonds for an atropisomer are co-planar - atoms are: 12 11\n",
      "[22:55:33] Both bonds on one end of an atropisomer are on the same side - atoms are: 14 7\n",
      "[22:55:33] Both bonds on one end of an atropisomer are on the same side - atoms are: 15 9\n",
      "[22:55:34] Both bonds on one end of an atropisomer are on the same side - atoms are: 1 3\n",
      "[22:55:34] Both bonds on one end of an atropisomer are on the same side - atoms are: 4 5\n",
      "[22:55:34] Both bonds on one end of an atropisomer are on the same side - atoms are: 3 5\n"
     ]
    },
    {
     "name": "stdout",
     "output_type": "stream",
     "text": [
      "Processed 520000 molecules...\n"
     ]
    },
    {
     "name": "stderr",
     "output_type": "stream",
     "text": [
      "[22:55:40] Both bonds on one end of an atropisomer are on the same side - atoms are: 6 7\n",
      "[22:55:40] Both bonds on one end of an atropisomer are on the same side - atoms are: 9 8\n",
      "[22:55:40] Both bonds on one end of an atropisomer are on the same side - atoms are: 1 4\n",
      "[22:55:42] Both bonds on one end of an atropisomer are on the same side - atoms are: 8 7\n",
      "[22:55:42] Both bonds on one end of an atropisomer are on the same side - atoms are: 6 7\n",
      "[22:55:42] Both bonds on one end of an atropisomer are on the same side - atoms are: 1 3\n",
      "[22:55:43] Both bonds on one end of an atropisomer are on the same side - atoms are: 6 4\n",
      "[22:55:43] Both bonds on one end of an atropisomer are on the same side - atoms are: 5 6\n",
      "[22:55:43] Both bonds on one end of an atropisomer are on the same side - atoms are: 5 3\n",
      "[22:55:44] Both bonds on one end of an atropisomer are on the same side - atoms are: 8 9\n",
      "[22:55:44] Both bonds on one end of an atropisomer are on the same side - atoms are: 7 9\n",
      "[22:55:46] Both bonds on one end of an atropisomer are on the same side - atoms are: 1 0\n",
      "[22:55:46] Both bonds on one end of an atropisomer are on the same side - atoms are: 5 9\n",
      "[22:55:46] Both bonds on one end of an atropisomer are on the same side - atoms are: 11 14\n",
      "[22:55:47] The 2 defining bonds for an atropisomer are co-planar - atoms are: 5 4\n",
      "[22:55:47] The 2 defining bonds for an atropisomer are co-planar - atoms are: 3 6\n",
      "[22:55:47] Both bonds on one end of an atropisomer are on the same side - atoms are: 2 3\n",
      "[22:55:48] Both bonds on one end of an atropisomer are on the same side - atoms are: 1 3\n"
     ]
    },
    {
     "name": "stdout",
     "output_type": "stream",
     "text": [
      "Processed 530000 molecules...\n"
     ]
    },
    {
     "name": "stderr",
     "output_type": "stream",
     "text": [
      "[22:55:51] Both bonds on one end of an atropisomer are on the same side - atoms are: 0 3\n",
      "[22:55:53] Both bonds on one end of an atropisomer are on the same side - atoms are: 7 2\n",
      "[22:55:56] Both bonds on one end of an atropisomer are on the same side - atoms are: 5 4\n",
      "[22:55:56] Both bonds on one end of an atropisomer are on the same side - atoms are: 3 0\n",
      "[22:55:56] Both bonds on one end of an atropisomer are on the same side - atoms are: 3 0\n",
      "[22:55:56] The 2 defining bonds for an atropisomer are co-planar - atoms are: 3 4\n",
      "[22:55:56] Both bonds on one end of an atropisomer are on the same side - atoms are: 4 2\n",
      "[22:55:56] Both bonds on one end of an atropisomer are on the same side - atoms are: 6 7\n",
      "[22:55:56] Both bonds on one end of an atropisomer are on the same side - atoms are: 5 2\n",
      "[22:55:57] The 2 defining bonds for an atropisomer are co-planar - atoms are: 8 7\n",
      "[22:55:57] Both bonds on one end of an atropisomer are on the same side - atoms are: 7 5\n",
      "[22:55:57] Both bonds on one end of an atropisomer are on the same side - atoms are: 8 4\n",
      "[22:55:57] Both bonds on one end of an atropisomer are on the same side - atoms are: 7 6\n",
      "[22:55:57] Both bonds on one end of an atropisomer are on the same side - atoms are: 8 6\n",
      "[22:55:57] Both bonds on one end of an atropisomer are on the same side - atoms are: 8 6\n",
      "[22:55:57] Both bonds on one end of an atropisomer are on the same side - atoms are: 7 4\n",
      "[22:55:57] The 2 defining bonds for an atropisomer are co-planar - atoms are: 7 8\n",
      "[22:55:57] Both bonds on one end of an atropisomer are on the same side - atoms are: 7 4\n",
      "[22:55:57] The 2 defining bonds for an atropisomer are co-planar - atoms are: 7 8\n",
      "[22:55:57] Both bonds on one end of an atropisomer are on the same side - atoms are: 6 8\n",
      "[22:55:57] Both bonds on one end of an atropisomer are on the same side - atoms are: 8 9\n",
      "[22:55:57] Both bonds on one end of an atropisomer are on the same side - atoms are: 7 4\n",
      "[22:55:57] The 2 defining bonds for an atropisomer are co-planar - atoms are: 5 6\n",
      "[22:55:57] Both bonds on one end of an atropisomer are on the same side - atoms are: 6 4\n",
      "[22:55:57] Both bonds on one end of an atropisomer are on the same side - atoms are: 5 3\n",
      "[22:55:57] Both bonds on one end of an atropisomer are on the same side - atoms are: 5 2\n",
      "[22:55:57] Both bonds on one end of an atropisomer are on the same side - atoms are: 6 7\n",
      "[22:55:57] Both bonds on one end of an atropisomer are on the same side - atoms are: 7 0\n",
      "[22:55:57] Both bonds on one end of an atropisomer are on the same side - atoms are: 10 11\n",
      "[22:55:57] The 2 defining bonds for an atropisomer are co-planar - atoms are: 5 6\n",
      "[22:55:57] Both bonds on one end of an atropisomer are on the same side - atoms are: 5 2\n",
      "[22:55:57] Both bonds on one end of an atropisomer are on the same side - atoms are: 6 2\n",
      "[22:55:58] Both bonds on one end of an atropisomer are on the same side - atoms are: 8 7\n",
      "[22:55:59] Both bonds on one end of an atropisomer are on the same side - atoms are: 3 0\n"
     ]
    },
    {
     "name": "stdout",
     "output_type": "stream",
     "text": [
      "Processed 540000 molecules...\n"
     ]
    },
    {
     "name": "stderr",
     "output_type": "stream",
     "text": [
      "[22:56:00] Both bonds on one end of an atropisomer are on the same side - atoms are: 3 0\n",
      "[22:56:00] Both bonds on one end of an atropisomer are on the same side - atoms are: 5 4\n",
      "[22:56:02] The 2 defining bonds for an atropisomer are co-planar - atoms are: 9 10\n",
      "[22:56:02] Both bonds on one end of an atropisomer are on the same side - atoms are: 9 12\n",
      "[22:56:02] Both bonds on one end of an atropisomer are on the same side - atoms are: 10 13\n",
      "[22:56:02] Both bonds on one end of an atropisomer are on the same side - atoms are: 9 10\n",
      "[22:56:03] Both bonds on one end of an atropisomer are on the same side - atoms are: 6 1\n",
      "[22:56:03] Both bonds on one end of an atropisomer are on the same side - atoms are: 0 6\n",
      "[22:56:04] The 2 defining bonds for an atropisomer are co-planar - atoms are: 4 3\n",
      "[22:56:05] Both bonds on one end of an atropisomer are on the same side - atoms are: 7 6\n",
      "[22:56:05] Both bonds on one end of an atropisomer are on the same side - atoms are: 0 2\n",
      "[22:56:06] The 2 defining bonds for an atropisomer are co-planar - atoms are: 5 8\n",
      "[22:56:06] The 2 defining bonds for an atropisomer are co-planar - atoms are: 5 7\n",
      "[22:56:09] Both bonds on one end of an atropisomer are on the same side - atoms are: 8 6\n",
      "[22:56:09] The 2 defining bonds for an atropisomer are co-planar - atoms are: 9 8\n",
      "[22:56:09] Both bonds on one end of an atropisomer are on the same side - atoms are: 9 11\n"
     ]
    },
    {
     "name": "stdout",
     "output_type": "stream",
     "text": [
      "Processed 550000 molecules...\n"
     ]
    },
    {
     "name": "stderr",
     "output_type": "stream",
     "text": [
      "[22:56:11] Both bonds on one end of an atropisomer are on the same side - atoms are: 3 0\n",
      "[22:56:11] The 2 defining bonds for an atropisomer are co-planar - atoms are: 3 4\n",
      "[22:56:11] Both bonds on one end of an atropisomer are on the same side - atoms are: 4 2\n",
      "[22:56:11] Both bonds on one end of an atropisomer are on the same side - atoms are: 6 3\n",
      "[22:56:11] Both bonds on one end of an atropisomer are on the same side - atoms are: 6 9\n",
      "[22:56:11] Both bonds on one end of an atropisomer are on the same side - atoms are: 1 0\n",
      "[22:56:11] Both bonds on one end of an atropisomer are on the same side - atoms are: 7 0\n",
      "[22:56:11] Both bonds on one end of an atropisomer are on the same side - atoms are: 1 7\n",
      "[22:56:12] Both bonds on one end of an atropisomer are on the same side - atoms are: 5 3\n",
      "[22:56:14] The 2 defining bonds for an atropisomer are co-planar - atoms are: 2 5\n",
      "[22:56:14] Both bonds on one end of an atropisomer are on the same side - atoms are: 4 6\n",
      "[22:56:14] Both bonds on one end of an atropisomer are on the same side - atoms are: 2 3\n",
      "[22:56:16] Both bonds on one end of an atropisomer are on the same side - atoms are: 3 6\n",
      "[22:56:16] Explicit valence for atom # 12 Si, 5, is greater than permitted\n",
      "[22:56:16] Both bonds on one end of an atropisomer are on the same side - atoms are: 13 12\n",
      "[22:56:16] Both bonds on one end of an atropisomer are on the same side - atoms are: 10 6\n",
      "[22:56:17] Both bonds on one end of an atropisomer are on the same side - atoms are: 4 3\n",
      "[22:56:17] Both bonds on one end of an atropisomer are on the same side - atoms are: 6 2\n",
      "[22:56:17] The 2 defining bonds for an atropisomer are co-planar - atoms are: 6 4\n",
      "[22:56:17] Both bonds on one end of an atropisomer are on the same side - atoms are: 6 7\n",
      "[22:56:18] Both bonds on one end of an atropisomer are on the same side - atoms are: 11 7\n",
      "[22:56:18] Both bonds on one end of an atropisomer are on the same side - atoms are: 10 9\n",
      "[22:56:18] Both bonds on one end of an atropisomer are on the same side - atoms are: 9 5\n"
     ]
    },
    {
     "name": "stdout",
     "output_type": "stream",
     "text": [
      "Processed 560000 molecules...\n"
     ]
    },
    {
     "name": "stderr",
     "output_type": "stream",
     "text": [
      "[22:56:20] Both bonds on one end of an atropisomer are on the same side - atoms are: 7 8\n",
      "[22:56:20] Both bonds on one end of an atropisomer are on the same side - atoms are: 6 4\n",
      "[22:56:20] Both bonds on one end of an atropisomer are on the same side - atoms are: 9 7\n",
      "[22:56:20] Both bonds on one end of an atropisomer are on the same side - atoms are: 8 3\n",
      "[22:56:21] Both bonds on one end of an atropisomer are on the same side - atoms are: 14 12\n",
      "[22:56:21] Both bonds on one end of an atropisomer are on the same side - atoms are: 0 1\n",
      "[22:56:23] Both bonds on one end of an atropisomer are on the same side - atoms are: 10 6\n",
      "[22:56:24] Both bonds on one end of an atropisomer are on the same side - atoms are: 6 0\n",
      "[22:56:24] Both bonds on one end of an atropisomer are on the same side - atoms are: 1 6\n",
      "[22:56:25] The 2 defining bonds for an atropisomer are co-planar - atoms are: 1 3\n",
      "[22:56:30] Both bonds on one end of an atropisomer are on the same side - atoms are: 1 8\n",
      "[22:56:30] Both bonds on one end of an atropisomer are on the same side - atoms are: 8 0\n",
      "[22:56:30] Both bonds on one end of an atropisomer are on the same side - atoms are: 7 0\n",
      "[22:56:30] Both bonds on one end of an atropisomer are on the same side - atoms are: 1 7\n",
      "[22:56:30] Both bonds on one end of an atropisomer are on the same side - atoms are: 2 5\n",
      "[22:56:30] Both bonds on one end of an atropisomer are on the same side - atoms are: 4 3\n",
      "[22:56:32] Both bonds on one end of an atropisomer are on the same side - atoms are: 10 7\n",
      "[22:56:32] Both bonds on one end of an atropisomer are on the same side - atoms are: 11 8\n",
      "[22:56:32] The 2 defining bonds for an atropisomer are co-planar - atoms are: 10 11\n"
     ]
    },
    {
     "name": "stdout",
     "output_type": "stream",
     "text": [
      "Processed 570000 molecules...\n"
     ]
    },
    {
     "name": "stderr",
     "output_type": "stream",
     "text": [
      "[22:56:34] Both bonds on one end of an atropisomer are on the same side - atoms are: 2 3\n",
      "[22:56:34] Both bonds on one end of an atropisomer are on the same side - atoms are: 3 4\n",
      "[22:56:35] Both bonds on one end of an atropisomer are on the same side - atoms are: 1 4\n",
      "[22:56:35] The 2 defining bonds for an atropisomer are co-planar - atoms are: 6 4\n",
      "[22:56:36] Both bonds on one end of an atropisomer are on the same side - atoms are: 9 6\n",
      "[22:56:36] Both bonds on one end of an atropisomer are on the same side - atoms are: 11 10\n",
      "[22:56:36] Both bonds on one end of an atropisomer are on the same side - atoms are: 0 2\n",
      "[22:56:38] Both bonds on one end of an atropisomer are on the same side - atoms are: 0 1\n",
      "[22:56:41] Unexpected error hit on line 39761047\n",
      "[22:56:41] ERROR: moving to the beginning of the next molecule\n"
     ]
    },
    {
     "name": "stdout",
     "output_type": "stream",
     "text": [
      "Processed 580000 molecules...\n"
     ]
    },
    {
     "name": "stderr",
     "output_type": "stream",
     "text": [
      "[22:56:42] Both bonds on one end of an atropisomer are on the same side - atoms are: 4 7\n",
      "[22:56:42] Both bonds on one end of an atropisomer are on the same side - atoms are: 3 2\n",
      "[22:56:42] The 2 defining bonds for an atropisomer are co-planar - atoms are: 2 4\n",
      "[22:56:45] Both bonds on one end of an atropisomer are on the same side - atoms are: 10 13\n",
      "[22:56:46] Both bonds on one end of an atropisomer are on the same side - atoms are: 3 1\n",
      "[22:56:46] The 2 defining bonds for an atropisomer are co-planar - atoms are: 3 4\n",
      "[22:56:46] Both bonds on one end of an atropisomer are on the same side - atoms are: 4 5\n",
      "[22:56:47] Both bonds on one end of an atropisomer are on the same side - atoms are: 5 2\n",
      "[22:56:47] Both bonds on one end of an atropisomer are on the same side - atoms are: 6 3\n",
      "[22:56:47] Both bonds on one end of an atropisomer are on the same side - atoms are: 10 6\n",
      "[22:56:47] Both bonds on one end of an atropisomer are on the same side - atoms are: 10 7\n",
      "[22:56:51] Both bonds on one end of an atropisomer are on the same side - atoms are: 5 6\n",
      "[22:56:51] Both bonds on one end of an atropisomer are on the same side - atoms are: 1 3\n",
      "[22:56:51] Both bonds on one end of an atropisomer are on the same side - atoms are: 4 3\n",
      "[22:56:51] Both bonds on one end of an atropisomer are on the same side - atoms are: 4 3\n",
      "[22:56:51] Both bonds on one end of an atropisomer are on the same side - atoms are: 5 2\n",
      "[22:56:51] The 2 defining bonds for an atropisomer are co-planar - atoms are: 5 4\n",
      "[22:56:52] The 2 defining bonds for an atropisomer are co-planar - atoms are: 2 3\n",
      "[22:56:52] Both bonds on one end of an atropisomer are on the same side - atoms are: 3 0\n",
      "[22:56:52] Both bonds on one end of an atropisomer are on the same side - atoms are: 2 0\n",
      "[22:56:52] The 2 defining bonds for an atropisomer are co-planar - atoms are: 3 0\n",
      "[22:56:52] The 2 defining bonds for an atropisomer are co-planar - atoms are: 7 3\n"
     ]
    },
    {
     "name": "stdout",
     "output_type": "stream",
     "text": [
      "Processed 590000 molecules...\n"
     ]
    },
    {
     "name": "stderr",
     "output_type": "stream",
     "text": [
      "[22:56:53] The 2 defining bonds for an atropisomer are co-planar - atoms are: 2 4\n",
      "[22:56:53] The 2 defining bonds for an atropisomer are co-planar - atoms are: 4 3\n",
      "[22:56:54] Both bonds on one end of an atropisomer are on the same side - atoms are: 1 4\n",
      "[22:56:55] Both bonds on one end of an atropisomer are on the same side - atoms are: 14 12\n",
      "[22:56:55] Both bonds on one end of an atropisomer are on the same side - atoms are: 13 11\n",
      "[22:56:55] Both bonds on one end of an atropisomer are on the same side - atoms are: 16 14\n",
      "[22:56:55] Both bonds on one end of an atropisomer are on the same side - atoms are: 15 13\n",
      "[22:56:55] Both bonds on one end of an atropisomer are on the same side - atoms are: 15 13\n",
      "[22:56:55] Both bonds on one end of an atropisomer are on the same side - atoms are: 16 14\n",
      "[22:56:55] Both bonds on one end of an atropisomer are on the same side - atoms are: 16 14\n",
      "[22:56:55] Both bonds on one end of an atropisomer are on the same side - atoms are: 13 15\n",
      "[22:56:55] Both bonds on one end of an atropisomer are on the same side - atoms are: 15 13\n",
      "[22:56:56] Both bonds on one end of an atropisomer are on the same side - atoms are: 5 0\n",
      "[22:57:00] The 2 defining bonds for an atropisomer are co-planar - atoms are: 8 14\n"
     ]
    },
    {
     "name": "stdout",
     "output_type": "stream",
     "text": [
      "Processed 600000 molecules...\n"
     ]
    },
    {
     "name": "stderr",
     "output_type": "stream",
     "text": [
      "[22:57:03] Both bonds on one end of an atropisomer are on the same side - atoms are: 4 6\n",
      "[22:57:03] Both bonds on one end of an atropisomer are on the same side - atoms are: 4 7\n",
      "[22:57:03] Both bonds on one end of an atropisomer are on the same side - atoms are: 8 9\n",
      "[22:57:04] Both bonds on one end of an atropisomer are on the same side - atoms are: 12 8\n",
      "[22:57:04] Both bonds on one end of an atropisomer are on the same side - atoms are: 13 11\n",
      "[22:57:09] The 2 defining bonds for an atropisomer are co-planar - atoms are: 9 6\n",
      "[22:57:09] Both bonds on one end of an atropisomer are on the same side - atoms are: 1 5\n",
      "[22:57:12] Both bonds on one end of an atropisomer are on the same side - atoms are: 0 3\n",
      "[22:57:13] Both bonds on one end of an atropisomer are on the same side - atoms are: 4 5\n",
      "[22:57:13] Both bonds on one end of an atropisomer are on the same side - atoms are: 3 5\n"
     ]
    },
    {
     "name": "stdout",
     "output_type": "stream",
     "text": [
      "Processed 610000 molecules...\n"
     ]
    },
    {
     "name": "stderr",
     "output_type": "stream",
     "text": [
      "[22:57:13] The 2 defining bonds for an atropisomer are co-planar - atoms are: 3 7\n",
      "[22:57:13] Both bonds on one end of an atropisomer are on the same side - atoms are: 3 1\n",
      "[22:57:13] Both bonds on one end of an atropisomer are on the same side - atoms are: 5 6\n",
      "[22:57:14] Both bonds on one end of an atropisomer are on the same side - atoms are: 1 4\n",
      "[22:57:14] Both bonds on one end of an atropisomer are on the same side - atoms are: 12 15\n",
      "[22:57:15] Both bonds on one end of an atropisomer are on the same side - atoms are: 0 1\n",
      "[22:57:16] Both bonds on one end of an atropisomer are on the same side - atoms are: 15 14\n",
      "[22:57:17] Both bonds on one end of an atropisomer are on the same side - atoms are: 2 1\n",
      "[22:57:17] Both bonds on one end of an atropisomer are on the same side - atoms are: 5 4\n",
      "[22:57:18] Both bonds on one end of an atropisomer are on the same side - atoms are: 4 7\n",
      "[22:57:18] Both bonds on one end of an atropisomer are on the same side - atoms are: 5 8\n",
      "[22:57:18] Both bonds on one end of an atropisomer are on the same side - atoms are: 10 1\n",
      "[22:57:18] Both bonds on one end of an atropisomer are on the same side - atoms are: 11 12\n",
      "[22:57:19] Both bonds on one end of an atropisomer are on the same side - atoms are: 16 11\n",
      "[22:57:19] Both bonds on one end of an atropisomer are on the same side - atoms are: 6 1\n",
      "[22:57:19] Both bonds on one end of an atropisomer are on the same side - atoms are: 0 6\n",
      "[22:57:19] Both bonds on one end of an atropisomer are on the same side - atoms are: 11 12\n",
      "[22:57:20] Both bonds on one end of an atropisomer are on the same side - atoms are: 0 2\n",
      "[22:57:21] The 2 defining bonds for an atropisomer are co-planar - atoms are: 4 5\n",
      "[22:57:22] Both bonds on one end of an atropisomer are on the same side - atoms are: 1 3\n",
      "[22:57:23] The 2 defining bonds for an atropisomer are co-planar - atoms are: 10 8\n"
     ]
    },
    {
     "name": "stdout",
     "output_type": "stream",
     "text": [
      "Processed 620000 molecules...\n"
     ]
    },
    {
     "name": "stderr",
     "output_type": "stream",
     "text": [
      "[22:57:26] Both bonds on one end of an atropisomer are on the same side - atoms are: 0 2\n",
      "[22:57:26] Both bonds on one end of an atropisomer are on the same side - atoms are: 0 1\n",
      "[22:57:26] Both bonds on one end of an atropisomer are on the same side - atoms are: 1 0\n",
      "[22:57:27] Both bonds on one end of an atropisomer are on the same side - atoms are: 8 9\n",
      "[22:57:28] Both bonds on one end of an atropisomer are on the same side - atoms are: 7 4\n",
      "[22:57:30] Both bonds on one end of an atropisomer are on the same side - atoms are: 6 0\n",
      "[22:57:30] Both bonds on one end of an atropisomer are on the same side - atoms are: 1 6\n",
      "[22:57:30] Both bonds on one end of an atropisomer are on the same side - atoms are: 0 8\n",
      "[22:57:30] Both bonds on one end of an atropisomer are on the same side - atoms are: 1 8\n",
      "[22:57:31] Both bonds on one end of an atropisomer are on the same side - atoms are: 1 0\n",
      "[22:57:33] Both bonds on one end of an atropisomer are on the same side - atoms are: 0 1\n",
      "[22:57:34] Both bonds on one end of an atropisomer are on the same side - atoms are: 0 1\n"
     ]
    },
    {
     "name": "stdout",
     "output_type": "stream",
     "text": [
      "Processed 630000 molecules...\n"
     ]
    },
    {
     "name": "stderr",
     "output_type": "stream",
     "text": [
      "[22:57:34] Both bonds on one end of an atropisomer are on the same side - atoms are: 0 2\n",
      "[22:57:34] Both bonds on one end of an atropisomer are on the same side - atoms are: 1 0\n",
      "[22:57:34] Both bonds on one end of an atropisomer are on the same side - atoms are: 6 3\n",
      "[22:57:34] Both bonds on one end of an atropisomer are on the same side - atoms are: 4 7\n",
      "[22:57:35] Both bonds on one end of an atropisomer are on the same side - atoms are: 5 3\n",
      "[22:57:35] Both bonds on one end of an atropisomer are on the same side - atoms are: 6 1\n",
      "[22:57:35] Both bonds on one end of an atropisomer are on the same side - atoms are: 0 6\n",
      "[22:57:35] The 2 defining bonds for an atropisomer are co-planar - atoms are: 2 3\n",
      "[22:57:35] Both bonds on one end of an atropisomer are on the same side - atoms are: 3 6\n",
      "[22:57:35] Both bonds on one end of an atropisomer are on the same side - atoms are: 2 1\n",
      "[22:57:35] Both bonds on one end of an atropisomer are on the same side - atoms are: 3 7\n",
      "[22:57:36] Both bonds on one end of an atropisomer are on the same side - atoms are: 0 6\n",
      "[22:57:36] Both bonds on one end of an atropisomer are on the same side - atoms are: 7 6\n",
      "[22:57:36] Both bonds on one end of an atropisomer are on the same side - atoms are: 0 4\n",
      "[22:57:37] Both bonds on one end of an atropisomer are on the same side - atoms are: 3 5\n",
      "[22:57:37] The 2 defining bonds for an atropisomer are co-planar - atoms are: 4 2\n",
      "[22:57:38] Both bonds on one end of an atropisomer are on the same side - atoms are: 10 8\n",
      "[22:57:38] Both bonds on one end of an atropisomer are on the same side - atoms are: 8 5\n",
      "[22:57:38] Both bonds on one end of an atropisomer are on the same side - atoms are: 11 10\n",
      "[22:57:39] Both bonds on one end of an atropisomer are on the same side - atoms are: 1 3\n",
      "[22:57:39] Both bonds on one end of an atropisomer are on the same side - atoms are: 1 0\n",
      "[22:57:39] Both bonds on one end of an atropisomer are on the same side - atoms are: 1 0\n",
      "[22:57:39] Both bonds on one end of an atropisomer are on the same side - atoms are: 1 3\n",
      "[22:57:39] Both bonds on one end of an atropisomer are on the same side - atoms are: 1 3\n",
      "[22:57:39] Both bonds on one end of an atropisomer are on the same side - atoms are: 1 3\n",
      "[22:57:39] Both bonds on one end of an atropisomer are on the same side - atoms are: 1 3\n",
      "[22:57:39] Both bonds on one end of an atropisomer are on the same side - atoms are: 1 3\n",
      "[22:57:39] Both bonds on one end of an atropisomer are on the same side - atoms are: 1 3\n",
      "[22:57:39] Both bonds on one end of an atropisomer are on the same side - atoms are: 1 3\n",
      "[22:57:40] Both bonds on one end of an atropisomer are on the same side - atoms are: 0 3\n",
      "[22:57:40] Both bonds on one end of an atropisomer are on the same side - atoms are: 12 7\n",
      "[22:57:40] The 2 defining bonds for an atropisomer are co-planar - atoms are: 12 10\n",
      "[22:57:41] Both bonds on one end of an atropisomer are on the same side - atoms are: 1 6\n",
      "[22:57:41] Both bonds on one end of an atropisomer are on the same side - atoms are: 6 0\n",
      "[22:57:42] Both bonds on one end of an atropisomer are on the same side - atoms are: 6 0\n",
      "[22:57:42] Both bonds on one end of an atropisomer are on the same side - atoms are: 6 1\n",
      "[22:57:42] Warning: molecule is tagged as 3D, but all Z coords are zero and 2D stereo markers have been found, marking the mol as 2D.\n",
      "[22:57:43] Both bonds on one end of an atropisomer are on the same side - atoms are: 1 0\n",
      "[22:57:44] Both bonds on one end of an atropisomer are on the same side - atoms are: 6 3\n",
      "[22:57:44] Both bonds on one end of an atropisomer are on the same side - atoms are: 7 8\n"
     ]
    },
    {
     "name": "stdout",
     "output_type": "stream",
     "text": [
      "Processed 640000 molecules...\n"
     ]
    },
    {
     "name": "stderr",
     "output_type": "stream",
     "text": [
      "[22:57:45] Both bonds on one end of an atropisomer are on the same side - atoms are: 1 3\n",
      "[22:57:46] Both bonds on one end of an atropisomer are on the same side - atoms are: 11 10\n",
      "[22:57:46] Both bonds on one end of an atropisomer are on the same side - atoms are: 11 10\n",
      "[22:57:47] Both bonds on one end of an atropisomer are on the same side - atoms are: 0 1\n",
      "[22:57:47] Both bonds on one end of an atropisomer are on the same side - atoms are: 9 2\n",
      "[22:57:47] Both bonds on one end of an atropisomer are on the same side - atoms are: 12 14\n",
      "[22:57:47] Both bonds on one end of an atropisomer are on the same side - atoms are: 7 11\n",
      "[22:57:47] Both bonds on one end of an atropisomer are on the same side - atoms are: 13 7\n",
      "[22:57:47] Both bonds on one end of an atropisomer are on the same side - atoms are: 3 10\n",
      "[22:57:47] The 2 defining bonds for an atropisomer are co-planar - atoms are: 2 0\n",
      "[22:57:47] Both bonds on one end of an atropisomer are on the same side - atoms are: 11 10\n",
      "[22:57:47] Both bonds on one end of an atropisomer are on the same side - atoms are: 8 2\n",
      "[22:57:47] Both bonds on one end of an atropisomer are on the same side - atoms are: 12 13\n",
      "[22:57:47] Both bonds on one end of an atropisomer are on the same side - atoms are: 10 7\n",
      "[22:57:49] Both bonds on one end of an atropisomer are on the same side - atoms are: 10 6\n",
      "[22:57:49] Both bonds on one end of an atropisomer are on the same side - atoms are: 8 5\n",
      "[22:57:49] Both bonds on one end of an atropisomer are on the same side - atoms are: 8 6\n",
      "[22:57:49] Both bonds on one end of an atropisomer are on the same side - atoms are: 0 2\n",
      "[22:57:49] Both bonds on one end of an atropisomer are on the same side - atoms are: 11 6\n",
      "[22:57:49] Both bonds on one end of an atropisomer are on the same side - atoms are: 12 13\n",
      "[22:57:51] Both bonds on one end of an atropisomer are on the same side - atoms are: 0 1\n",
      "[22:57:52] The 2 defining bonds for an atropisomer are co-planar - atoms are: 10 7\n",
      "[22:57:53] Both bonds on one end of an atropisomer are on the same side - atoms are: 5 3\n",
      "[22:57:53] Both bonds on one end of an atropisomer are on the same side - atoms are: 6 4\n",
      "[22:57:54] Both bonds on one end of an atropisomer are on the same side - atoms are: 0 1\n",
      "[22:57:54] Both bonds on one end of an atropisomer are on the same side - atoms are: 0 2\n"
     ]
    },
    {
     "name": "stdout",
     "output_type": "stream",
     "text": [
      "Processed 650000 molecules...\n"
     ]
    },
    {
     "name": "stderr",
     "output_type": "stream",
     "text": [
      "[22:57:55] Both bonds on one end of an atropisomer are on the same side - atoms are: 6 2\n",
      "[22:57:55] The 2 defining bonds for an atropisomer are co-planar - atoms are: 5 7\n",
      "[22:57:56] Both bonds on one end of an atropisomer are on the same side - atoms are: 4 3\n",
      "[22:57:56] The 2 defining bonds for an atropisomer are co-planar - atoms are: 3 2\n",
      "[22:57:56] Both bonds on one end of an atropisomer are on the same side - atoms are: 1 0\n",
      "[22:58:00] The 2 defining bonds for an atropisomer are co-planar - atoms are: 8 7\n",
      "[22:58:01] Both bonds on one end of an atropisomer are on the same side - atoms are: 1 4\n",
      "[22:58:01] Both bonds on one end of an atropisomer are on the same side - atoms are: 0 1\n",
      "[22:58:02] Both bonds on one end of an atropisomer are on the same side - atoms are: 3 4\n",
      "[22:58:02] Both bonds on one end of an atropisomer are on the same side - atoms are: 5 1\n",
      "[22:58:02] The 2 defining bonds for an atropisomer are co-planar - atoms are: 7 5\n",
      "[22:58:02] The 2 defining bonds for an atropisomer are co-planar - atoms are: 7 4\n",
      "[22:58:03] Both bonds on one end of an atropisomer are on the same side - atoms are: 5 8\n",
      "[22:58:04] The 2 defining bonds for an atropisomer are co-planar - atoms are: 4 0\n"
     ]
    },
    {
     "name": "stdout",
     "output_type": "stream",
     "text": [
      "Processed 660000 molecules...\n"
     ]
    },
    {
     "name": "stderr",
     "output_type": "stream",
     "text": [
      "[22:58:07] Both bonds on one end of an atropisomer are on the same side - atoms are: 15 14\n",
      "[22:58:07] Both bonds on one end of an atropisomer are on the same side - atoms are: 13 14\n",
      "[22:58:07] Both bonds on one end of an atropisomer are on the same side - atoms are: 12 15\n",
      "[22:58:07] Both bonds on one end of an atropisomer are on the same side - atoms are: 10 5\n",
      "[22:58:07] Both bonds on one end of an atropisomer are on the same side - atoms are: 11 9\n",
      "[22:58:10] Both bonds on one end of an atropisomer are on the same side - atoms are: 11 10\n",
      "[22:58:10] Both bonds on one end of an atropisomer are on the same side - atoms are: 0 2\n",
      "[22:58:11] Both bonds on one end of an atropisomer are on the same side - atoms are: 7 3\n",
      "[22:58:11] Both bonds on one end of an atropisomer are on the same side - atoms are: 8 3\n",
      "[22:58:11] The 2 defining bonds for an atropisomer are co-planar - atoms are: 7 8\n",
      "[22:58:12] Both bonds on one end of an atropisomer are on the same side - atoms are: 0 4\n",
      "[22:58:13] Both bonds on one end of an atropisomer are on the same side - atoms are: 0 2\n",
      "[22:58:13] Both bonds on one end of an atropisomer are on the same side - atoms are: 1 3\n",
      "[22:58:14] Both bonds on one end of an atropisomer are on the same side - atoms are: 13 15\n",
      "[22:58:15] Both bonds on one end of an atropisomer are on the same side - atoms are: 1 6\n",
      "[22:58:15] Both bonds on one end of an atropisomer are on the same side - atoms are: 6 0\n"
     ]
    },
    {
     "name": "stdout",
     "output_type": "stream",
     "text": [
      "Processed 670000 molecules...\n"
     ]
    },
    {
     "name": "stderr",
     "output_type": "stream",
     "text": [
      "[22:58:16] Both bonds on one end of an atropisomer are on the same side - atoms are: 6 8\n",
      "[22:58:17] Both bonds on one end of an atropisomer are on the same side - atoms are: 1 4\n",
      "[22:58:17] Both bonds on one end of an atropisomer are on the same side - atoms are: 1 3\n",
      "[22:58:18] Both bonds on one end of an atropisomer are on the same side - atoms are: 2 4\n",
      "[22:58:18] Both bonds on one end of an atropisomer are on the same side - atoms are: 1 3\n",
      "[22:58:19] Both bonds on one end of an atropisomer are on the same side - atoms are: 5 3\n",
      "[22:58:20] The 2 defining bonds for an atropisomer are co-planar - atoms are: 5 6\n",
      "[22:58:20] Both bonds on one end of an atropisomer are on the same side - atoms are: 13 6\n",
      "[22:58:23] Both bonds on one end of an atropisomer are on the same side - atoms are: 11 12\n",
      "[22:58:23] Both bonds on one end of an atropisomer are on the same side - atoms are: 10 12\n",
      "[22:58:24] The 2 defining bonds for an atropisomer are co-planar - atoms are: 4 5\n",
      "[22:58:24] Both bonds on one end of an atropisomer are on the same side - atoms are: 5 3\n",
      "[22:58:24] Both bonds on one end of an atropisomer are on the same side - atoms are: 4 2\n",
      "[22:58:24] Both bonds on one end of an atropisomer are on the same side - atoms are: 7 6\n"
     ]
    },
    {
     "name": "stdout",
     "output_type": "stream",
     "text": [
      "Processed 680000 molecules...\n"
     ]
    },
    {
     "name": "stderr",
     "output_type": "stream",
     "text": [
      "[22:58:28] Both bonds on one end of an atropisomer are on the same side - atoms are: 8 10\n",
      "[22:58:28] Both bonds on one end of an atropisomer are on the same side - atoms are: 8 0\n",
      "[22:58:29] Both bonds on one end of an atropisomer are on the same side - atoms are: 0 7\n",
      "[22:58:29] Both bonds on one end of an atropisomer are on the same side - atoms are: 7 1\n",
      "[22:58:30] Both bonds on one end of an atropisomer are on the same side - atoms are: 1 3\n",
      "[22:58:32] Both bonds on one end of an atropisomer are on the same side - atoms are: 10 13\n"
     ]
    },
    {
     "name": "stdout",
     "output_type": "stream",
     "text": [
      "Processed 690000 molecules...\n"
     ]
    },
    {
     "name": "stderr",
     "output_type": "stream",
     "text": [
      "[22:58:40] Explicit valence for atom # 7 Si, 5, is greater than permitted\n",
      "[22:58:44] Both bonds on one end of an atropisomer are on the same side - atoms are: 12 9\n",
      "[22:58:45] The 2 defining bonds for an atropisomer are co-planar - atoms are: 13 7\n"
     ]
    },
    {
     "name": "stdout",
     "output_type": "stream",
     "text": [
      "Processed 700000 molecules...\n"
     ]
    },
    {
     "name": "stderr",
     "output_type": "stream",
     "text": [
      "[22:58:50] The 2 defining bonds for an atropisomer are co-planar - atoms are: 12 13\n",
      "[22:58:50] The 2 defining bonds for an atropisomer are co-planar - atoms are: 11 12\n"
     ]
    },
    {
     "name": "stdout",
     "output_type": "stream",
     "text": [
      "Processed 710000 molecules...\n"
     ]
    },
    {
     "name": "stderr",
     "output_type": "stream",
     "text": [
      "[22:59:01] Both bonds on one end of an atropisomer are on the same side - atoms are: 1 3\n",
      "[22:59:04] The 2 defining bonds for an atropisomer are co-planar - atoms are: 5 0\n",
      "[22:59:05] Warning: molecule is tagged as 3D, but all Z coords are zero and 2D stereo markers have been found, marking the mol as 2D.\n",
      "[22:59:08] The 2 defining bonds for an atropisomer are co-planar - atoms are: 11 10\n",
      "[22:59:10] The 2 defining bonds for an atropisomer are co-planar - atoms are: 1 2\n",
      "[22:59:10] The 2 defining bonds for an atropisomer are co-planar - atoms are: 0 2\n",
      "[22:59:12] The 2 defining bonds for an atropisomer are co-planar - atoms are: 2 1\n"
     ]
    },
    {
     "name": "stdout",
     "output_type": "stream",
     "text": [
      "Processed 720000 molecules...\n"
     ]
    },
    {
     "name": "stderr",
     "output_type": "stream",
     "text": [
      "[22:59:13] Both bonds on one end of an atropisomer are on the same side - atoms are: 3 2\n",
      "[22:59:15] The 2 defining bonds for an atropisomer are co-planar - atoms are: 9 8\n",
      "[22:59:15] The 2 defining bonds for an atropisomer are co-planar - atoms are: 1 0\n",
      "[22:59:15] Both bonds on one end of an atropisomer are on the same side - atoms are: 0 3\n",
      "[22:59:15] Both bonds on one end of an atropisomer are on the same side - atoms are: 1 3\n",
      "[22:59:16] Warning: molecule is tagged as 3D, but all Z coords are zero and 2D stereo markers have been found, marking the mol as 2D.\n",
      "[22:59:16] Both bonds on one end of an atropisomer are on the same side - atoms are: 6 8\n",
      "[22:59:16] The 2 defining bonds for an atropisomer are co-planar - atoms are: 10 7\n",
      "[22:59:16] Both bonds on one end of an atropisomer are on the same side - atoms are: 4 10\n",
      "[22:59:16] Both bonds on one end of an atropisomer are on the same side - atoms are: 5 11\n",
      "[22:59:17] Both bonds on one end of an atropisomer are on the same side - atoms are: 3 5\n",
      "[22:59:17] Both bonds on one end of an atropisomer are on the same side - atoms are: 14 11\n",
      "[22:59:17] Both bonds on one end of an atropisomer are on the same side - atoms are: 7 11\n",
      "[22:59:19] Both bonds on one end of an atropisomer are on the same side - atoms are: 10 12\n",
      "[22:59:20] Both bonds on one end of an atropisomer are on the same side - atoms are: 7 4\n"
     ]
    },
    {
     "name": "stdout",
     "output_type": "stream",
     "text": [
      "Processed 730000 molecules...\n"
     ]
    },
    {
     "name": "stderr",
     "output_type": "stream",
     "text": [
      "[22:59:23] Both bonds on one end of an atropisomer are on the same side - atoms are: 3 6\n",
      "[22:59:25] Explicit valence for atom # 3 Si, 5, is greater than permitted\n",
      "[22:59:25] Explicit valence for atom # 14 Si, 5, is greater than permitted\n",
      "[22:59:25] Explicit valence for atom # 5 Si, 5, is greater than permitted\n",
      "[22:59:25] Explicit valence for atom # 4 Si, 5, is greater than permitted\n",
      "[22:59:25] Explicit valence for atom # 3 Si, 5, is greater than permitted\n",
      "[22:59:31] The 2 defining bonds for an atropisomer are co-planar - atoms are: 3 4\n",
      "[22:59:31] Both bonds on one end of an atropisomer are on the same side - atoms are: 4 0\n",
      "[22:59:31] Both bonds on one end of an atropisomer are on the same side - atoms are: 3 0\n"
     ]
    },
    {
     "name": "stdout",
     "output_type": "stream",
     "text": [
      "Processed 740000 molecules...\n"
     ]
    },
    {
     "name": "stderr",
     "output_type": "stream",
     "text": [
      "[22:59:33] Both bonds on one end of an atropisomer are on the same side - atoms are: 4 2\n",
      "[22:59:38] Explicit valence for atom # 2 Si, 5, is greater than permitted\n",
      "[22:59:38] The 2 defining bonds for an atropisomer are co-planar - atoms are: 4 6\n",
      "[22:59:38] Both bonds on one end of an atropisomer are on the same side - atoms are: 3 4\n",
      "[22:59:38] The 2 defining bonds for an atropisomer are co-planar - atoms are: 3 5\n",
      "[22:59:38] Both bonds on one end of an atropisomer are on the same side - atoms are: 1 3\n",
      "[22:59:40] The 2 defining bonds for an atropisomer are co-planar - atoms are: 0 10\n",
      "[22:59:40] Both bonds on one end of an atropisomer are on the same side - atoms are: 1 3\n",
      "[22:59:40] Both bonds on one end of an atropisomer are on the same side - atoms are: 1 0\n",
      "[22:59:41] Both bonds on one end of an atropisomer are on the same side - atoms are: 2 4\n",
      "[22:59:41] The 2 defining bonds for an atropisomer are co-planar - atoms are: 2 1\n",
      "[22:59:41] Both bonds on one end of an atropisomer are on the same side - atoms are: 1 3\n",
      "[22:59:42] Both bonds on one end of an atropisomer are on the same side - atoms are: 1 0\n"
     ]
    },
    {
     "name": "stdout",
     "output_type": "stream",
     "text": [
      "Processed 750000 molecules...\n"
     ]
    },
    {
     "name": "stderr",
     "output_type": "stream",
     "text": [
      "[22:59:43] Both bonds on one end of an atropisomer are on the same side - atoms are: 0 2\n",
      "[22:59:44] Both bonds on one end of an atropisomer are on the same side - atoms are: 1 5\n",
      "[22:59:50] Both bonds on one end of an atropisomer are on the same side - atoms are: 1 0\n",
      "[22:59:50] The 2 defining bonds for an atropisomer are co-planar - atoms are: 14 7\n",
      "[22:59:50] Both bonds on one end of an atropisomer are on the same side - atoms are: 11 7\n"
     ]
    },
    {
     "name": "stdout",
     "output_type": "stream",
     "text": [
      "Processed 760000 molecules...\n"
     ]
    },
    {
     "name": "stderr",
     "output_type": "stream",
     "text": [
      "[22:59:55] Both bonds on one end of an atropisomer are on the same side - atoms are: 4 2\n",
      "[22:59:55] Both bonds on one end of an atropisomer are on the same side - atoms are: 9 6\n",
      "[22:59:56] Both bonds on one end of an atropisomer are on the same side - atoms are: 2 1\n",
      "[22:59:56] The 2 defining bonds for an atropisomer are co-planar - atoms are: 2 3\n",
      "[22:59:56] The 2 defining bonds for an atropisomer are co-planar - atoms are: 3 4\n",
      "[22:59:56] Both bonds on one end of an atropisomer are on the same side - atoms are: 4 2\n",
      "[22:59:56] Both bonds on one end of an atropisomer are on the same side - atoms are: 3 1\n",
      "[22:59:57] Both bonds on one end of an atropisomer are on the same side - atoms are: 1 0\n"
     ]
    },
    {
     "name": "stdout",
     "output_type": "stream",
     "text": [
      "Processed 770000 molecules...\n",
      "Processed 780000 molecules...\n"
     ]
    },
    {
     "name": "stderr",
     "output_type": "stream",
     "text": [
      "[23:00:20] The 2 defining bonds for an atropisomer are co-planar - atoms are: 5 10\n",
      "[23:00:20] The 2 defining bonds for an atropisomer are co-planar - atoms are: 16 8\n",
      "[23:00:21] The 2 defining bonds for an atropisomer are co-planar - atoms are: 5 10\n",
      "[23:00:23] The 2 defining bonds for an atropisomer are co-planar - atoms are: 14 7\n",
      "[23:00:23] The 2 defining bonds for an atropisomer are co-planar - atoms are: 5 10\n",
      "[23:00:23] The 2 defining bonds for an atropisomer are co-planar - atoms are: 5 11\n",
      "[23:00:23] The 2 defining bonds for an atropisomer are co-planar - atoms are: 5 11\n",
      "[23:00:24] The 2 defining bonds for an atropisomer are co-planar - atoms are: 12 8\n",
      "[23:00:24] The 2 defining bonds for an atropisomer are co-planar - atoms are: 10 15\n",
      "[23:00:24] The 2 defining bonds for an atropisomer are co-planar - atoms are: 9 16\n"
     ]
    },
    {
     "name": "stdout",
     "output_type": "stream",
     "text": [
      "Processed 790000 molecules...\n"
     ]
    },
    {
     "name": "stderr",
     "output_type": "stream",
     "text": [
      "[23:00:26] The 2 defining bonds for an atropisomer are co-planar - atoms are: 5 11\n",
      "[23:00:27] Unexpected error hit on line 53128557\n",
      "[23:00:27] ERROR: moving to the beginning of the next molecule\n",
      "[23:00:27] The 2 defining bonds for an atropisomer are co-planar - atoms are: 11 5\n",
      "[23:00:27] The 2 defining bonds for an atropisomer are co-planar - atoms are: 5 10\n",
      "[23:00:28] The 2 defining bonds for an atropisomer are co-planar - atoms are: 9 13\n",
      "[23:00:28] Both bonds on one end of an atropisomer are on the same side - atoms are: 1 3\n",
      "[23:00:28] Both bonds on one end of an atropisomer are on the same side - atoms are: 0 2\n",
      "[23:00:28] The 2 defining bonds for an atropisomer are co-planar - atoms are: 1 2\n",
      "[23:00:28] The 2 defining bonds for an atropisomer are co-planar - atoms are: 5 12\n",
      "[23:00:29] The 2 defining bonds for an atropisomer are co-planar - atoms are: 4 9\n",
      "[23:00:29] The 2 defining bonds for an atropisomer are co-planar - atoms are: 9 4\n",
      "[23:00:30] The 2 defining bonds for an atropisomer are co-planar - atoms are: 8 4\n",
      "[23:00:30] The 2 defining bonds for an atropisomer are co-planar - atoms are: 6 11\n",
      "[23:00:31] The 2 defining bonds for an atropisomer are co-planar - atoms are: 10 7\n",
      "[23:00:31] The 2 defining bonds for an atropisomer are co-planar - atoms are: 12 8\n",
      "[23:00:31] Both bonds on one end of an atropisomer are on the same side - atoms are: 4 5\n",
      "[23:00:32] Both bonds on one end of an atropisomer are on the same side - atoms are: 7 3\n",
      "[23:00:34] The 2 defining bonds for an atropisomer are co-planar - atoms are: 6 10\n"
     ]
    },
    {
     "name": "stdout",
     "output_type": "stream",
     "text": [
      "Processed 800000 molecules...\n"
     ]
    },
    {
     "name": "stderr",
     "output_type": "stream",
     "text": [
      "[23:00:36] The 2 defining bonds for an atropisomer are co-planar - atoms are: 15 11\n",
      "[23:00:38] Both bonds on one end of an atropisomer are on the same side - atoms are: 5 8\n"
     ]
    },
    {
     "name": "stdout",
     "output_type": "stream",
     "text": [
      "Processed 810000 molecules...\n"
     ]
    },
    {
     "name": "stderr",
     "output_type": "stream",
     "text": [
      "[23:00:55] The 2 defining bonds for an atropisomer are co-planar - atoms are: 6 5\n"
     ]
    },
    {
     "name": "stdout",
     "output_type": "stream",
     "text": [
      "Processed 820000 molecules...\n",
      "Processed 830000 molecules...\n"
     ]
    },
    {
     "name": "stderr",
     "output_type": "stream",
     "text": [
      "[23:01:12] Both bonds on one end of an atropisomer are on the same side - atoms are: 0 1\n",
      "[23:01:13] Explicit valence for atom # 12 Si, 5, is greater than permitted\n",
      "[23:01:16] Both bonds on one end of an atropisomer are on the same side - atoms are: 4 7\n"
     ]
    },
    {
     "name": "stdout",
     "output_type": "stream",
     "text": [
      "Processed 840000 molecules...\n"
     ]
    },
    {
     "name": "stderr",
     "output_type": "stream",
     "text": [
      "[23:01:17] Both bonds on one end of an atropisomer are on the same side - atoms are: 2 9\n",
      "[23:01:18] Both bonds on one end of an atropisomer are on the same side - atoms are: 1 5\n",
      "[23:01:18] Explicit valence for atom # 5 Si, 5, is greater than permitted\n",
      "[23:01:21] Unexpected error hit on line 56391017\n",
      "[23:01:21] ERROR: moving to the beginning of the next molecule\n",
      "[23:01:22] The 2 defining bonds for an atropisomer are co-planar - atoms are: 10 6\n"
     ]
    },
    {
     "name": "stdout",
     "output_type": "stream",
     "text": [
      "Processed 850000 molecules...\n"
     ]
    },
    {
     "name": "stderr",
     "output_type": "stream",
     "text": [
      "[23:01:34] Both bonds on one end of an atropisomer are on the same side - atoms are: 5 8\n"
     ]
    },
    {
     "name": "stdout",
     "output_type": "stream",
     "text": [
      "Processed 860000 molecules...\n"
     ]
    },
    {
     "name": "stderr",
     "output_type": "stream",
     "text": [
      "[23:01:37] Both bonds on one end of an atropisomer are on the same side - atoms are: 9 7\n",
      "[23:01:39] Both bonds on one end of an atropisomer are on the same side - atoms are: 9 5\n",
      "[23:01:39] Both bonds on one end of an atropisomer are on the same side - atoms are: 10 5\n",
      "[23:01:39] The 2 defining bonds for an atropisomer are co-planar - atoms are: 10 9\n",
      "[23:01:39] Both bonds on one end of an atropisomer are on the same side - atoms are: 9 5\n",
      "[23:01:39] The 2 defining bonds for an atropisomer are co-planar - atoms are: 10 9\n",
      "[23:01:39] Both bonds on one end of an atropisomer are on the same side - atoms are: 10 5\n",
      "[23:01:39] Both bonds on one end of an atropisomer are on the same side - atoms are: 1 3\n",
      "[23:01:40] Both bonds on one end of an atropisomer are on the same side - atoms are: 0 2\n",
      "[23:01:40] The 2 defining bonds for an atropisomer are co-planar - atoms are: 0 9\n",
      "[23:01:40] The 2 defining bonds for an atropisomer are co-planar - atoms are: 14 9\n",
      "[23:01:43] Explicit valence for atom # 14 Si, 5, is greater than permitted\n",
      "[23:01:45] Both bonds on one end of an atropisomer are on the same side - atoms are: 6 10\n"
     ]
    },
    {
     "name": "stdout",
     "output_type": "stream",
     "text": [
      "Processed 870000 molecules...\n",
      "Processed 880000 molecules...\n"
     ]
    },
    {
     "name": "stderr",
     "output_type": "stream",
     "text": [
      "[23:02:00] Both bonds on one end of an atropisomer are on the same side - atoms are: 5 3\n"
     ]
    },
    {
     "name": "stdout",
     "output_type": "stream",
     "text": [
      "Processed 890000 molecules...\n"
     ]
    },
    {
     "name": "stderr",
     "output_type": "stream",
     "text": [
      "[23:02:10] Both bonds on one end of an atropisomer are on the same side - atoms are: 6 2\n",
      "[23:02:12] The 2 defining bonds for an atropisomer are co-planar - atoms are: 6 5\n",
      "[23:02:12] Both bonds on one end of an atropisomer are on the same side - atoms are: 4 8\n",
      "[23:02:14] Both bonds on one end of an atropisomer are on the same side - atoms are: 0 1\n"
     ]
    },
    {
     "name": "stdout",
     "output_type": "stream",
     "text": [
      "Finished processing and saved to NPZ!\n"
     ]
    }
   ],
   "source": [
    "import os\n",
    "import numpy as np\n",
    "from rdkit import Chem\n",
    "import selfies as sf\n",
    "\n",
    "# ---------- CONFIG ----------\n",
    "sdf_file = r\"D:\\molecule3d\\data\\data\\raw\\combined_mols_0_to_1000000.sdf\"\n",
    "output_dir = r\"D:\\molecule3d\\data\\processed\"\n",
    "os.makedirs(output_dir, exist_ok=True)\n",
    "\n",
    "# ---------- STORAGE LISTS ----------\n",
    "all_atom_types = []\n",
    "all_coords = []\n",
    "all_smiles = []\n",
    "all_selfies = []\n",
    "\n",
    "# ---------- PROCESS SDF ----------\n",
    "supplier = Chem.SDMolSupplier(sdf_file, sanitize=False)\n",
    "for i, mol in enumerate(supplier):\n",
    "    if mol is None:\n",
    "        continue  # skip invalid molecules\n",
    "\n",
    "    try:\n",
    "        # optional: sanitize molecule without kekulization\n",
    "        Chem.SanitizeMol(mol, sanitizeOps=Chem.SanitizeFlags.SANITIZE_ALL ^ Chem.SanitizeFlags.SANITIZE_KEKULIZE)\n",
    "    except:\n",
    "        pass\n",
    "\n",
    "    # Remove explicit hydrogens to simplify\n",
    "    #mol = Chem.RemoveHs(mol)\n",
    "\n",
    "    # Get atom types and coordinates\n",
    "    atom_types = [atom.GetSymbol() for atom in mol.GetAtoms()]\n",
    "    coords = [mol.GetConformer().GetAtomPosition(i) for i in range(mol.GetNumAtoms())]\n",
    "    coords = [[p.x, p.y, p.z] for p in coords]\n",
    "\n",
    "    all_atom_types.append(atom_types)\n",
    "    all_coords.append(coords)\n",
    "\n",
    "    # SMILES\n",
    "    try:\n",
    "        smiles = Chem.MolToSmiles(mol, kekuleSmiles=False)\n",
    "    except:\n",
    "        smiles = \"\"\n",
    "    all_smiles.append(smiles)\n",
    "\n",
    "    # SELFIES\n",
    "    try:\n",
    "        selfies_str = sf.encoder(smiles) if smiles else \"\"\n",
    "    except:\n",
    "        selfies_str = \"\"\n",
    "    all_selfies.append(selfies_str)\n",
    "\n",
    "    if (i+1) % 10000 == 0:\n",
    "        print(f\"Processed {i+1} molecules...\")\n",
    "\n",
    "# ---------- SAVE TO NPZ ----------\n",
    "np.savez_compressed(\n",
    "    os.path.join(output_dir, \"molecules_last_.9_million.npz\"),\n",
    "    atom_types=np.array(all_atom_types, dtype=object),\n",
    "    coords=np.array(all_coords, dtype=object),\n",
    "    smiles=np.array(all_smiles, dtype=object),\n",
    "    selfies=np.array(all_selfies, dtype=object)\n",
    ")\n",
    "\n",
    "print(\"Finished processing and saved to NPZ!\")"
   ]
  },
  {
   "cell_type": "code",
   "execution_count": 16,
   "id": "cbc91973-e649-43d5-a11d-10833bf838d2",
   "metadata": {},
   "outputs": [
    {
     "name": "stdout",
     "output_type": "stream",
     "text": [
      "['atom_types', 'coords', 'smiles', 'selfies']\n",
      "['C', 'C', 'O', 'O', 'C', 'O', 'O', 'O', 'H', 'H', 'H', 'H']\n",
      "[[0.7266, -0.0447, -0.0413], [0.1404, -0.6432, -1.3245], [-1.0468, -0.8979, -1.4122], [1.017, -0.8491, -2.2972], [0.3713, -0.9147, 1.1829], [1.2331, -1.1713, 1.9948], [-0.8935, -1.3019, 1.2849], [2.1213, 0.0962, -0.1485], [0.2426, 0.9341, 0.1009], [1.896, -0.593, -1.9344], [-1.3508, -1.1242, 0.4253], [2.4855, -0.3245, 0.6604]]\n",
      "[H]OC(=O)C([H])(O[H])C(=O)O[H]\n",
      "[H][O][C][=Branch1][C][=O][C][Branch1][C][H][Branch1][Ring1][O][H][C][=Branch1][C][=O][O][H]\n"
     ]
    }
   ],
   "source": [
    "import numpy as np\n",
    "\n",
    "data = np.load(r\"D:\\molecule3d\\data\\processed\\molecules_1st_million.npz\", allow_pickle=True)\n",
    "\n",
    "print(data.files)\n",
    "n = 42\n",
    "print(data[\"atom_types\"][n])\n",
    "print(data[\"coords\"][n])\n",
    "print(data[\"smiles\"][n])\n",
    "print(data[\"selfies\"][n])"
   ]
  }
 ],
 "metadata": {
  "kernelspec": {
   "display_name": "Python 3 (ipykernel)",
   "language": "python",
   "name": "python3"
  },
  "language_info": {
   "codemirror_mode": {
    "name": "ipython",
    "version": 3
   },
   "file_extension": ".py",
   "mimetype": "text/x-python",
   "name": "python",
   "nbconvert_exporter": "python",
   "pygments_lexer": "ipython3",
   "version": "3.12.3"
  }
 },
 "nbformat": 4,
 "nbformat_minor": 5
}
