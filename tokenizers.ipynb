{
 "cells": [
  {
   "cell_type": "code",
   "execution_count": 14,
   "id": "689509f9-8c9d-4d04-aa99-3d3418cf9be5",
   "metadata": {},
   "outputs": [],
   "source": [
    "import h5py\n",
    "import json\n",
    "from collections import Counter\n",
    "import re\n",
    "import selfies as sf\n",
    "\n",
    "# ---- 1. Tokenizers ----\n",
    "SMILES_REGEX = re.compile(\n",
    "    r\"\"\"(\n",
    "        Cl|Br|Na|Si|Li             # multi-letter atoms\n",
    "        | [A-Z][a-z]?              # single-letter atoms\n",
    "        | \\[ [^\\]]+ \\]             # bracketed expressions\n",
    "        | @@?                      # stereochemistry @ / @@\n",
    "        | =|#|\\+|-|/|\\\\             # bonds\n",
    "        | \\(|\\)|\\.|\\*              # parentheses, dot, wildcard\n",
    "        | \\d                       # single-digit ring closures\n",
    "        | %\\d{2}                   # two-digit ring closures\n",
    "    )\"\"\",\n",
    "    re.X\n",
    ")\n",
    "\n",
    "def tokenize_smiles(s):\n",
    "    return SMILES_REGEX.findall(s)\n",
    "\n",
    "def tokenize_selfies(s):\n",
    "    return list(sf.split_selfies(s))\n",
    "\n",
    "# ---- 2. Build vocab ----\n",
    "def build_vocab(sequences, tokenizer, reserved_tokens=None):\n",
    "    reserved_tokens = reserved_tokens or [\"<pad>\", \"<unk>\", \"<bos>\", \"<eos>\"]\n",
    "    counter = Counter()\n",
    "\n",
    "    for seq in sequences:\n",
    "        counter.update(tokenizer(seq))\n",
    "\n",
    "    sorted_tokens = sorted(counter.items(), key=lambda x: (-x[1], x[0]))\n",
    "    tokens = reserved_tokens + [tok for tok, _ in sorted_tokens]\n",
    "\n",
    "    return {\n",
    "        \"tokens\": tokens,\n",
    "        \"token_to_id\": {t: i for i, t in enumerate(tokens)},\n",
    "        \"id_to_token\": {i: t for i, t in enumerate(tokens)},\n",
    "    }\n",
    "\n",
    "# ---- 3. Save vocab ----\n",
    "def save_vocab(vocab, out_path):\n",
    "    with open(out_path, \"w\") as f:\n",
    "        json.dump(vocab, f, indent=2)\n",
    "    print(f\"Saved {len(vocab['tokens'])} tokens -> {out_path}\")\n",
    "\n",
    "# ---- 4. Load vocab ----\n",
    "def load_vocab(vocab_file):\n",
    "    with open(vocab_file, \"r\") as f:\n",
    "        vocab = json.load(f)\n",
    "    return vocab"
   ]
  },
  {
   "cell_type": "code",
   "execution_count": 1,
   "id": "db50460f-6bbd-4a88-85fe-a94ecc8dd837",
   "metadata": {},
   "outputs": [],
   "source": [
    "molecule_files = [\"mol3d_data/mol3d_mil1.h5\",\n",
    "                  \"mol3d_data/mol3d_mil2.h5\",\n",
    "                  \"mol3d_data/mol3d_mil3.h5\",\n",
    "                  \"mol3d_data/mol3d_mil4.h5\"]"
   ]
  },
  {
   "cell_type": "code",
   "execution_count": 15,
   "id": "8373bcb5-f830-44a3-9e7a-3acd952d27ce",
   "metadata": {
    "jupyter": {
     "source_hidden": true
    }
   },
   "outputs": [
    {
     "name": "stdout",
     "output_type": "stream",
     "text": [
      "Saved 167 tokens -> mol3d_data/smiles_vocab.json\n"
     ]
    }
   ],
   "source": [
    "smiles = []\n",
    "for fid in molecule_files:\n",
    "    with h5py.File(fid, \"r\") as f:\n",
    "        for s in f[\"smiles\"]:\n",
    "            smiles.append(s.decode(\"utf-8\"))\n",
    "smiles_vocab = build_vocab(smiles, tokenize_smiles)\n",
    "save_vocab(smiles_vocab, \"mol3d_data/smiles_vocab.json\")"
   ]
  },
  {
   "cell_type": "code",
   "execution_count": 4,
   "id": "ac58b362-f099-4e9d-8f65-bb5324869e88",
   "metadata": {
    "collapsed": true,
    "jupyter": {
     "outputs_hidden": true,
     "source_hidden": true
    }
   },
   "outputs": [
    {
     "ename": "FileNotFoundError",
     "evalue": "[Errno 2] No such file or directory: 'vocab/selfies_vocab.json'",
     "output_type": "error",
     "traceback": [
      "\u001b[1;31m---------------------------------------------------------------------------\u001b[0m",
      "\u001b[1;31mFileNotFoundError\u001b[0m                         Traceback (most recent call last)",
      "Cell \u001b[1;32mIn[4], line 7\u001b[0m\n\u001b[0;32m      5\u001b[0m             selfies\u001b[38;5;241m.\u001b[39mappend(s\u001b[38;5;241m.\u001b[39mdecode(\u001b[38;5;124m\"\u001b[39m\u001b[38;5;124mutf-8\u001b[39m\u001b[38;5;124m\"\u001b[39m))\n\u001b[0;32m      6\u001b[0m selfies_vocab \u001b[38;5;241m=\u001b[39m build_vocab(selfies, tokenize_selfies)\n\u001b[1;32m----> 7\u001b[0m save_vocab(selfies_vocab, \u001b[38;5;124m\"\u001b[39m\u001b[38;5;124mvocab/selfies_vocab.json\u001b[39m\u001b[38;5;124m\"\u001b[39m)\n",
      "Cell \u001b[1;32mIn[2], line 35\u001b[0m, in \u001b[0;36msave_vocab\u001b[1;34m(vocab, out_path)\u001b[0m\n\u001b[0;32m     34\u001b[0m \u001b[38;5;28;01mdef\u001b[39;00m \u001b[38;5;21msave_vocab\u001b[39m(vocab, out_path):\n\u001b[1;32m---> 35\u001b[0m     \u001b[38;5;28;01mwith\u001b[39;00m \u001b[38;5;28mopen\u001b[39m(out_path, \u001b[38;5;124m\"\u001b[39m\u001b[38;5;124mw\u001b[39m\u001b[38;5;124m\"\u001b[39m) \u001b[38;5;28;01mas\u001b[39;00m f:\n\u001b[0;32m     36\u001b[0m         json\u001b[38;5;241m.\u001b[39mdump(vocab, f, indent\u001b[38;5;241m=\u001b[39m\u001b[38;5;241m2\u001b[39m)\n\u001b[0;32m     37\u001b[0m     \u001b[38;5;28mprint\u001b[39m(\u001b[38;5;124mf\u001b[39m\u001b[38;5;124m\"\u001b[39m\u001b[38;5;124mSaved \u001b[39m\u001b[38;5;132;01m{\u001b[39;00m\u001b[38;5;28mlen\u001b[39m(vocab[\u001b[38;5;124m'\u001b[39m\u001b[38;5;124mtokens\u001b[39m\u001b[38;5;124m'\u001b[39m])\u001b[38;5;132;01m}\u001b[39;00m\u001b[38;5;124m tokens -> \u001b[39m\u001b[38;5;132;01m{\u001b[39;00mout_path\u001b[38;5;132;01m}\u001b[39;00m\u001b[38;5;124m\"\u001b[39m)\n",
      "File \u001b[1;32mC:\\ProgramData\\anaconda3\\Lib\\site-packages\\IPython\\core\\interactiveshell.py:324\u001b[0m, in \u001b[0;36m_modified_open\u001b[1;34m(file, *args, **kwargs)\u001b[0m\n\u001b[0;32m    317\u001b[0m \u001b[38;5;28;01mif\u001b[39;00m file \u001b[38;5;129;01min\u001b[39;00m {\u001b[38;5;241m0\u001b[39m, \u001b[38;5;241m1\u001b[39m, \u001b[38;5;241m2\u001b[39m}:\n\u001b[0;32m    318\u001b[0m     \u001b[38;5;28;01mraise\u001b[39;00m \u001b[38;5;167;01mValueError\u001b[39;00m(\n\u001b[0;32m    319\u001b[0m         \u001b[38;5;124mf\u001b[39m\u001b[38;5;124m\"\u001b[39m\u001b[38;5;124mIPython won\u001b[39m\u001b[38;5;124m'\u001b[39m\u001b[38;5;124mt let you open fd=\u001b[39m\u001b[38;5;132;01m{\u001b[39;00mfile\u001b[38;5;132;01m}\u001b[39;00m\u001b[38;5;124m by default \u001b[39m\u001b[38;5;124m\"\u001b[39m\n\u001b[0;32m    320\u001b[0m         \u001b[38;5;124m\"\u001b[39m\u001b[38;5;124mas it is likely to crash IPython. If you know what you are doing, \u001b[39m\u001b[38;5;124m\"\u001b[39m\n\u001b[0;32m    321\u001b[0m         \u001b[38;5;124m\"\u001b[39m\u001b[38;5;124myou can use builtins\u001b[39m\u001b[38;5;124m'\u001b[39m\u001b[38;5;124m open.\u001b[39m\u001b[38;5;124m\"\u001b[39m\n\u001b[0;32m    322\u001b[0m     )\n\u001b[1;32m--> 324\u001b[0m \u001b[38;5;28;01mreturn\u001b[39;00m io_open(file, \u001b[38;5;241m*\u001b[39margs, \u001b[38;5;241m*\u001b[39m\u001b[38;5;241m*\u001b[39mkwargs)\n",
      "\u001b[1;31mFileNotFoundError\u001b[0m: [Errno 2] No such file or directory: 'vocab/selfies_vocab.json'"
     ]
    }
   ],
   "source": [
    "selfies = []\n",
    "for fid in molecule_files:\n",
    "    with h5py.File(fid, \"r\") as f:\n",
    "        for s in f[\"selfies\"]:\n",
    "            selfies.append(s.decode(\"utf-8\"))\n",
    "selfies_vocab = build_vocab(selfies, tokenize_selfies)\n",
    "save_vocab(selfies_vocab, \"mol3d_data/selfies_vocab.json\")"
   ]
  },
  {
   "cell_type": "code",
   "execution_count": 21,
   "id": "ee969eea-5dad-444d-8694-8c31a9d3ba56",
   "metadata": {},
   "outputs": [
    {
     "name": "stdout",
     "output_type": "stream",
     "text": [
      "['<pad>', '<unk>', '<bos>', '<eos>', '[C]', '[=C]', '[Branch1]', '[Ring1]', '[N]', '[O]', '[=Branch1]', '[=O]', '[=N]', '[#Branch1]', '[S]', '[Branch2]', '[=Branch2]', '[F]', '[#Branch2]', '[#C]', '[Cl]', '[Ring2]', '[CH0]', '[NH0]', '[NH1]', '[#N]', '[P]', '[O-1]', '[OH0]', '[CH1]', '[N+1]', '[H]', '[Br]', '[Si]', '[SH1]', '[=S]', '[B]', '[=N+1]', '[CH2]', '[=SH1]', '[PH1]', '[SH0]', '[=CH0]', '[BH0]', '[=P]', '[Se]', '[PH0]', '[SiH1]', '[SiH2]', '[Ge]', '[As]', '[=NH0]', '[SiH3]', '[=Si]', '[=PH0]', '[=PH1]', '[BH1]', '[SeH1]', '[GeH3]', '[=Ring1]', '[#SH0]', '[=SiH1]', '[GeH1]', '[GeH2]', '[SH2]', '[PH2]', '[Al]', '[=PH2]', '[AsH1]', '[=SeH1]', '[AsH2]', '[OH1]', '[=SiH2]', '[#CH0]', '[=CH1]', '[NH2]', '[PH3]', '[PH4]', '[AlH1]', '[Ga]', '[SH3]', '[Ti]', '[=PH3]', '[BH2]', '[Li]', '[GeH4]', '[Mg]', '[Na]', '[SiH4]', '[#Ti]', '[=Ti]', '[BeH1]', '[Be]', '[Cu]', '[SeH2]', '[V]', '[Zn]', '[#Sc]', '[#Zn]', '[=Ca]', '[=Ni]', '[=Ring2]', '[AlH2]', '[AlH3]', '[AsH3]', '[CH3]', '[Fe]', '[GaH1]', '[GaH2]'] \n",
      "\n",
      "{'<pad>': 0, '<unk>': 1, '<bos>': 2, '<eos>': 3, '[C]': 4, '[=C]': 5, '[Branch1]': 6, '[Ring1]': 7, '[N]': 8, '[O]': 9, '[=Branch1]': 10, '[=O]': 11, '[=N]': 12, '[#Branch1]': 13, '[S]': 14, '[Branch2]': 15, '[=Branch2]': 16, '[F]': 17, '[#Branch2]': 18, '[#C]': 19, '[Cl]': 20, '[Ring2]': 21, '[CH0]': 22, '[NH0]': 23, '[NH1]': 24, '[#N]': 25, '[P]': 26, '[O-1]': 27, '[OH0]': 28, '[CH1]': 29, '[N+1]': 30, '[H]': 31, '[Br]': 32, '[Si]': 33, '[SH1]': 34, '[=S]': 35, '[B]': 36, '[=N+1]': 37, '[CH2]': 38, '[=SH1]': 39, '[PH1]': 40, '[SH0]': 41, '[=CH0]': 42, '[BH0]': 43, '[=P]': 44, '[Se]': 45, '[PH0]': 46, '[SiH1]': 47, '[SiH2]': 48, '[Ge]': 49, '[As]': 50, '[=NH0]': 51, '[SiH3]': 52, '[=Si]': 53, '[=PH0]': 54, '[=PH1]': 55, '[BH1]': 56, '[SeH1]': 57, '[GeH3]': 58, '[=Ring1]': 59, '[#SH0]': 60, '[=SiH1]': 61, '[GeH1]': 62, '[GeH2]': 63, '[SH2]': 64, '[PH2]': 65, '[Al]': 66, '[=PH2]': 67, '[AsH1]': 68, '[=SeH1]': 69, '[AsH2]': 70, '[OH1]': 71, '[=SiH2]': 72, '[#CH0]': 73, '[=CH1]': 74, '[NH2]': 75, '[PH3]': 76, '[PH4]': 77, '[AlH1]': 78, '[Ga]': 79, '[SH3]': 80, '[Ti]': 81, '[=PH3]': 82, '[BH2]': 83, '[Li]': 84, '[GeH4]': 85, '[Mg]': 86, '[Na]': 87, '[SiH4]': 88, '[#Ti]': 89, '[=Ti]': 90, '[BeH1]': 91, '[Be]': 92, '[Cu]': 93, '[SeH2]': 94, '[V]': 95, '[Zn]': 96, '[#Sc]': 97, '[#Zn]': 98, '[=Ca]': 99, '[=Ni]': 100, '[=Ring2]': 101, '[AlH2]': 102, '[AlH3]': 103, '[AsH3]': 104, '[CH3]': 105, '[Fe]': 106, '[GaH1]': 107, '[GaH2]': 108} \n",
      "\n",
      "{'0': '<pad>', '1': '<unk>', '2': '<bos>', '3': '<eos>', '4': '[C]', '5': '[=C]', '6': '[Branch1]', '7': '[Ring1]', '8': '[N]', '9': '[O]', '10': '[=Branch1]', '11': '[=O]', '12': '[=N]', '13': '[#Branch1]', '14': '[S]', '15': '[Branch2]', '16': '[=Branch2]', '17': '[F]', '18': '[#Branch2]', '19': '[#C]', '20': '[Cl]', '21': '[Ring2]', '22': '[CH0]', '23': '[NH0]', '24': '[NH1]', '25': '[#N]', '26': '[P]', '27': '[O-1]', '28': '[OH0]', '29': '[CH1]', '30': '[N+1]', '31': '[H]', '32': '[Br]', '33': '[Si]', '34': '[SH1]', '35': '[=S]', '36': '[B]', '37': '[=N+1]', '38': '[CH2]', '39': '[=SH1]', '40': '[PH1]', '41': '[SH0]', '42': '[=CH0]', '43': '[BH0]', '44': '[=P]', '45': '[Se]', '46': '[PH0]', '47': '[SiH1]', '48': '[SiH2]', '49': '[Ge]', '50': '[As]', '51': '[=NH0]', '52': '[SiH3]', '53': '[=Si]', '54': '[=PH0]', '55': '[=PH1]', '56': '[BH1]', '57': '[SeH1]', '58': '[GeH3]', '59': '[=Ring1]', '60': '[#SH0]', '61': '[=SiH1]', '62': '[GeH1]', '63': '[GeH2]', '64': '[SH2]', '65': '[PH2]', '66': '[Al]', '67': '[=PH2]', '68': '[AsH1]', '69': '[=SeH1]', '70': '[AsH2]', '71': '[OH1]', '72': '[=SiH2]', '73': '[#CH0]', '74': '[=CH1]', '75': '[NH2]', '76': '[PH3]', '77': '[PH4]', '78': '[AlH1]', '79': '[Ga]', '80': '[SH3]', '81': '[Ti]', '82': '[=PH3]', '83': '[BH2]', '84': '[Li]', '85': '[GeH4]', '86': '[Mg]', '87': '[Na]', '88': '[SiH4]', '89': '[#Ti]', '90': '[=Ti]', '91': '[BeH1]', '92': '[Be]', '93': '[Cu]', '94': '[SeH2]', '95': '[V]', '96': '[Zn]', '97': '[#Sc]', '98': '[#Zn]', '99': '[=Ca]', '100': '[=Ni]', '101': '[=Ring2]', '102': '[AlH2]', '103': '[AlH3]', '104': '[AsH3]', '105': '[CH3]', '106': '[Fe]', '107': '[GaH1]', '108': '[GaH2]'}\n"
     ]
    }
   ],
   "source": [
    "vocab = load_vocab(\"mol3d_data/selfies_vocab.json\")\n",
    "print(vocab[\"tokens\"], '\\n')\n",
    "print(vocab[\"token_to_id\"], '\\n')\n",
    "print(vocab[\"id_to_token\"])"
   ]
  },
  {
   "cell_type": "code",
   "execution_count": null,
   "id": "f5dbbe89-677d-45dd-b020-bcc2c18361ae",
   "metadata": {},
   "outputs": [],
   "source": []
  }
 ],
 "metadata": {
  "kernelspec": {
   "display_name": "Python 3 (ipykernel)",
   "language": "python",
   "name": "python3"
  },
  "language_info": {
   "codemirror_mode": {
    "name": "ipython",
    "version": 3
   },
   "file_extension": ".py",
   "mimetype": "text/x-python",
   "name": "python",
   "nbconvert_exporter": "python",
   "pygments_lexer": "ipython3",
   "version": "3.12.3"
  }
 },
 "nbformat": 4,
 "nbformat_minor": 5
}
