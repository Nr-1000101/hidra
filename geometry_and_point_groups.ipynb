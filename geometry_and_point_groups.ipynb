{
 "cells": [
  {
   "cell_type": "code",
   "execution_count": 927,
   "id": "018c6034-36d0-431f-82f9-cd104e67af8e",
   "metadata": {},
   "outputs": [],
   "source": [
    "import h5py, json\n",
    "import numpy as np\n",
    "import matplotlib.pyplot as plt\n",
    "from collections import Counter\n",
    "from rdkit import Chem\n",
    "from rdkit.Chem import AllChem\n",
    "import py3Dmol\n",
    "from rdkit.Chem import rdGeometry\n",
    "from rdkit.Chem import rdDetermineBonds\n",
    "from itertools import combinations\n",
    "import ira_mod\n",
    "sofi = ira_mod.SOFI()\n",
    "\n",
    "def load_atoms_and_coords_hdf5(fid=0, idx=42):\n",
    "    \"\"\"Load the atoms and coords of a single molecule from HDF5 file\"\"\"\n",
    "    with h5py.File(molecule_files[fid], 'r') as f:\n",
    "        # Get coordinates and reshape\n",
    "        coords_flat = f['coords'][idx]\n",
    "        coords = coords_flat.reshape(-1, 3)\n",
    "        \n",
    "        # Get atom types (decode bytes to string)\n",
    "        atoms_str = f['atoms'][idx].decode('utf-8')\n",
    "        atoms = atoms_str.split('|')\n",
    "        \n",
    "        return np.array(coords, dtype=float), atoms\n",
    "\n",
    "def load_rings(fid=0):\n",
    "    \"\"\"Loads the informations about the rings from HDF5 file\"\"\"\n",
    "    with h5py.File(feature_files[fid], \"r\") as f:\n",
    "        rings_dset = f[\"rings\"]\n",
    "        ring_counts = f[\"nrings\"][:]\n",
    "\n",
    "        # Recover rings per molecule\n",
    "        all_rings = []\n",
    "        start = 0\n",
    "        for count in ring_counts:\n",
    "            rings = [rings_dset[i] for i in range(start, start + count)]\n",
    "            all_rings.append(rings)\n",
    "            start += count\n",
    "            \n",
    "    return ring_counts, all_rings\n",
    "\n",
    "def analyze_rings(rings, coords):\n",
    "    \"\"\"Fits planes to all the rings using PCA and computes the angle between them\"\"\"\n",
    "    coords = np.asarray(coords)\n",
    "    normals, angles, abs_errors = [], [], []\n",
    "    for ring in rings:\n",
    "        centered = coords[ring] - np.mean(coords[ring], axis=0)\n",
    "        cov = np.dot(centered.T, centered) / (coords.shape[0] - 1)\n",
    "        eigvals, eigvecs = np.linalg.eigh(cov)\n",
    "\n",
    "        # Get sort order (descending)\n",
    "        idx = np.argsort(eigvals)[::-1]\n",
    "        # Apply ordering\n",
    "        eigvals = eigvals[idx]\n",
    "        eigvecs = eigvecs[:, idx]\n",
    "\n",
    "        val = np.clip(eigvals[2], 0, None)\n",
    "        abs_errors.append(np.sqrt(val).astype(np.float32))\n",
    "        normals.append(eigvecs[:, 2])\n",
    "\n",
    "    for i, j in combinations(range(len(normals)), 2):\n",
    "        cos_theta = np.dot(normals[i], normals[j])\n",
    "        # Clip to avoid numerical issues >1 or <−1\n",
    "        cos_theta = np.clip(cos_theta, -1.0, 1.0)\n",
    "        theta = np.arccos(abs(cos_theta))  # use abs to enforce \"smaller of the two\"\n",
    "        angles.append((i, j, np.degrees(theta).astype(np.float32)))\n",
    "\n",
    "    return normals, angles, abs_errors\n",
    "\n",
    "def ring_planar_fits_and_angles(fid=0):\n",
    "    \"\"\"Computes how well planes fit rings in all the molecules and what are the angles between the planes\"\"\"\n",
    "    ring_counts, all_rings = load_rings(fid)\n",
    "    ring_non_planarities = []\n",
    "    angles_between_rings = []\n",
    "    with h5py.File(molecule_files[fid], 'r') as f:\n",
    "        for i, c in enumerate(f['coords']):\n",
    "            coords = np.array(c.reshape(-1, 3), dtype=float) # Coordinates as numpy array\n",
    "            rings = all_rings[i]\n",
    "            try:\n",
    "                normals, angles, abs_errors = analyze_rings(rings, coords)\n",
    "                ring_non_planarities.extend(abs_errors)\n",
    "                angles_between_rings.extend(angles)\n",
    "            except Exception as e:\n",
    "                print(f\"Ring planar fir for molecule {i} failed: {e}\")\n",
    "    return ring_non_planarities, angles_between_rings\n",
    "                \n",
    "def test_functions_on_a_molecule(fid=0, idx=42, sym_th=\"adaptive\", s_growth=1.5e-2):\n",
    "    \"\"\"Computes and prints most of the SOFI symmetry and other geometry analysis outputs\"\"\"\n",
    "    coords, atoms = load_atoms_and_coords_hdf5(fid, idx)\n",
    "    nat = len(atoms)  # Number of atoms\n",
    "    print(f\"Structure has {nat} atoms\")\n",
    "    print(f\"Atom types: {atoms}\")\n",
    "    \n",
    "    # Map atom types to integers\n",
    "    unique_atoms = list(set(atoms))\n",
    "    atom_type_map = {atom: i+1 for i, atom in enumerate(sorted(unique_atoms))}\n",
    "    print(f\"Atom type mapping: {atom_type_map}\")\n",
    "    typ = np.array([atom_type_map[atom] for atom in atoms], dtype=int)\n",
    "    \n",
    "    # Set symmetry threshold - this determines how precisely atoms must match\n",
    "    # after applying symmetry operations (typical values: 0.01-0.1)\n",
    "    if sym_th == \"adaptive\":\n",
    "        sym_thr = s_growth * nat # s_growth * np.sqrt((nat - 1) / 100)\n",
    "    else:\n",
    "        sym_thr = sym_th\n",
    "    \n",
    "    sym = sofi.compute(nat, typ, coords, sym_thr, origin=np.mean(coords, axis=0))\n",
    "    \n",
    "    # Print results\n",
    "    print(f\"Symmetry threshold used: {sym_th}\")\n",
    "    print(f\"Point Group: {sym.pg}\")\n",
    "    print(f\"Number of symmetry operations: {sym.n_sym}\")\n",
    "    print(f\"Number of principal axes: {sym.n_prin_ax}\")\n",
    "    print(f\"Principal axes:\")\n",
    "    for i, axis in enumerate(sym.prin_ax):\n",
    "        print(f\"  Axis {i+1}: [{axis[0]:.6f}, {axis[1]:.6f}, {axis[2]:.6f}]\")\n",
    "    \n",
    "    print(\"\\nSymmetry operations:\")\n",
    "    for i in range(sym.n_sym):\n",
    "        op, n, p, axis, angle = sofi.analmat(sym.matrix[i])\n",
    "        print(f\"  {i+1}: {op}{n}^{p}, axis=[{axis[0]:.3f}, {axis[1]:.3f}, {axis[2]:.3f}], angle={angle:.3f}\")\n",
    "        \n",
    "    print(f\"Geometric center: {np.mean(coords, axis=0)}\")\n",
    "    print(f\"\\nHausdorff distances: {sym.dHausdorff}\")\n",
    "    \n",
    "    # IMPORTANT: sofi.compute() does NOT automatically check for linearity!\n",
    "    # We need to do this manually and correct the point group if needed\n",
    "    is_collinear, linear_axis = sofi.check_collinear(nat, coords)\n",
    "    if is_collinear:\n",
    "        print(f\"\\n*** LINEAR MOLECULE DETECTED ***\")\n",
    "        print(f\"Structure is linear along axis: [{linear_axis[0]:.3f}, {linear_axis[1]:.3f}, {linear_axis[2]:.3f}]\")\n",
    "        \n",
    "        # Correct the point group for linear molecules\n",
    "        if dim == \"1D\":\n",
    "            sym.pg = \"Cnv\" # or \"C∞v\"\n",
    "            print(\"Corrected Point Group: Cnv (linear molecule without inversion)\")\n",
    "        else:\n",
    "            sym.pg = \"Dnh\" # or \"D∞h\" \n",
    "            print(\"Corrected Point Group: Dnh (linear molecule with inversion)\")\n",
    "    else:\n",
    "        print(f\"\\nMolecule is not linear - point group {sym.pg} is correct\")\n",
    "\n",
    "    dim, abs_err, rel_err = molecular_dimensionality(coords)\n",
    "    print(f\"\\nMolecule is {dim}\\nStandard deviation out of line/plane: {abs_err:.3f} Å\\nRelative non linearity/flatness: {rel_err:.1f}%\")\n",
    "                \n",
    "    mirror_symmetry_count, chiral = symmetry_planes_and_chirality(dim, sym)\n",
    "    print(f\"\\nThe molecule has {mirror_symmetry_count} vertical mirror plane(s)\")\n",
    "    if chiral:\n",
    "        print(f\"The molecule is chiral\")\n",
    "    else:\n",
    "        print(f\"The molecule is achiral\")\n",
    "\n",
    "    normals, angles, abs_errors = analyze_rings(all_rings[idx], coords)\n",
    "    print(f\"\\nThe molecule is comprised of {len(normals)} rings:\")\n",
    "    for i, n in enumerate(normals):\n",
    "        print(f\"Normal of ring {i+1} {np.array2string(n, precision=2, suppress_small=True)}\")\n",
    "        print(f\"Out of plane standard deviation of the ring: {abs_errors[i]:.2f} Å\")\n",
    "    for a in angles:\n",
    "        print(f\"The angle between ring {a[0]+1} and ring {a[1]+1} is {a[2]:.1f}°\")\n",
    "\n",
    "    visualize_molecule(fid, idx, text=False, rings=all_rings[idx], normals=normals, planes=True)\n",
    "\n",
    "def symmetry_and_dimensionality_analysis_of_data(fid=0, sym_thr=\"adaptive\", s_growth=1.5e-2):\n",
    "    \"\"\"Uses SOFI and PCA to find the point symmetry group, the dimension of molecule and vertical symmetry plane count\"\"\"\n",
    "    point_groups = []\n",
    "    dimensions = []\n",
    "    mirror_symmetries = []\n",
    "    chiralities = []\n",
    "\n",
    "    with h5py.File(molecule_files[fid], 'r') as f:\n",
    "        for i, a in enumerate(f['atoms']):\n",
    "            coords_flat = f['coords'][i]\n",
    "            coords = np.array(coords_flat.reshape(-1, 3), dtype=float) # Coordinates as numpy array\n",
    "            atoms_str = a.decode('utf-8')\n",
    "            atoms = atoms_str.split('|')\n",
    "            nat = len(atoms)  # Number of atoms\n",
    "\n",
    "            try:\n",
    "                dim, a, e = molecular_dimensionality(coords)\n",
    "                dimensions.append(dim)\n",
    "            except Exception as e:\n",
    "                dimensions.append(\"failed\")\n",
    "                print(f\"Dimensional analysis for molecule {i} failed: {e}\")\n",
    "                \n",
    "            if sym_thr == \"adaptive\":\n",
    "                sym_thr = s_growth * nat # s_growth * np.sqrt((nat - 1) / 100)\n",
    "            \n",
    "            # Map atom types to integers\n",
    "            unique_atoms = list(set(atoms))\n",
    "            atom_type_map = {atom: i+1 for i, atom in enumerate(sorted(unique_atoms))}\n",
    "            typ = np.array([atom_type_map[atom] for atom in atoms], dtype=int)\n",
    "                \n",
    "            try:\n",
    "                sym = sofi.compute(nat, typ, coords, sym_thr, origin=np.mean(coords, axis=0))\n",
    "                \n",
    "                is_collinear, linear_axis = sofi.check_collinear(nat, coords)\n",
    "                if dim == \"1D\":\n",
    "                    # Correct the point group for linear molecules\n",
    "                    if sym.n_sym == 1:\n",
    "                        sym.pg = \"Cnv\"  # or \"C∞v\"\n",
    "                    else:\n",
    "                        sym.pg = \"Dnh\"  # or \"D∞h\"\n",
    "                \n",
    "                mirror_symmetry_count, chiral = symmetry_planes_and_chirality(dim, sym)\n",
    "                if mirror_symmetry_count == -1:\n",
    "                    sym.pg = \"Cs\"\n",
    "                    mirror_symmetry_count += 1\n",
    "                    \n",
    "                point_groups.append(sym.pg)\n",
    "                mirror_symmetries.append(mirror_symmetry_count)\n",
    "                chiralities.append(chiral)\n",
    "                \n",
    "            except Exception as e:\n",
    "                point_groups.append(\"failed\")\n",
    "                mirror_symmetries.append(\"failed\")\n",
    "                chiralities.append(\"failed\")\n",
    "                print(f\"\\nSymmetry analysis for molecule {i} failed: {e}\")\n",
    "                        \n",
    "    return point_groups, dimensions, mirror_symmetries, chiralities\n",
    "\n",
    "def molecular_dimensionality(coords, strict_precision=1E-3, almost_precision=1E-1):\n",
    "    \"\"\"Classifies molecules into: \"1D\", \"almost 1D\", \"2D\", \"almost 2D\", \"3D\" within specified tolerance using PCA\"\"\"\n",
    "    coords = np.asarray(coords)\n",
    "    centered = coords - np.mean(coords, axis=0)\n",
    "    cov = np.dot(centered.T, centered) / (coords.shape[0] - 1)\n",
    "    eigvals, eigvecs = np.linalg.eigh(cov)\n",
    "    eigvals = np.sort(eigvals)[::-1]\n",
    "    eigvals = np.clip(eigvals, 0, None)\n",
    "    \n",
    "    n = len(coords)\n",
    "    frac_strict = 1 - strict_precision / n ** 0.5\n",
    "    frac_almost = 1 - almost_precision / n ** 0.5\n",
    "    \n",
    "    fractions = eigvals / eigvals.sum()\n",
    "    if fractions[0] > frac_strict:\n",
    "        dim = \"1D\"\n",
    "        abs_error = np.sqrt(eigvals[1] + eigvals[2])\n",
    "        rel_error = (fractions[1] + fractions[2]) * 3/2 * 100\n",
    "    elif fractions[0] > frac_almost:\n",
    "        dim = \"almost 1D\"\n",
    "        abs_error = np.sqrt(eigvals[1] + eigvals[2])\n",
    "        rel_error = (fractions[1] + fractions[2]) * 3/2 * 100\n",
    "    elif (fractions[0] + fractions[1]) > frac_strict:\n",
    "        dim = \"2D\"\n",
    "        abs_error = np.sqrt(eigvals[2])\n",
    "        rel_error = fractions[2] * 3 * 100\n",
    "    elif (fractions[0] + fractions[1]) > frac_almost:\n",
    "        dim = \"almost 2D\"\n",
    "        abs_error = np.sqrt(eigvals[2])\n",
    "        rel_error = fractions[2] * 3 * 100\n",
    "    else:\n",
    "        dim = \"3D\"\n",
    "        abs_error = np.sqrt(eigvals[2])\n",
    "        rel_error = fractions[2] * 3 * 100\n",
    "        \n",
    "    return dim, abs_error, rel_error\n",
    "\n",
    "def symmetry_planes_and_chirality(dim, sym, angle_prec=1E-3):\n",
    "    \"\"\"Returns the amount of NON-PLANAR symmetry planes and whether the molecule is GEOMETRICALLY chiral\"\"\"\n",
    "    chiral = False\n",
    "    mirror_symmetries = 0\n",
    "    if dim == \"1D\":\n",
    "        if sym.pg == \"Dnh\":\n",
    "            mirror_symmetries += 1\n",
    "    elif dim == \"2D\":\n",
    "        mirror_symmetries -= 1\n",
    "        for i in range(sym.n_sym):\n",
    "            op, n, p, axis, angle = sofi.analmat(sym.matrix[i])\n",
    "            # Check if it's a reflection (S operation with angle=0)\n",
    "            if op == 'S' and abs(angle) < angle_prec:\n",
    "                mirror_symmetries += 1\n",
    "    else:\n",
    "        chiral = True\n",
    "        for i in range(sym.n_sym):\n",
    "            op, n, p, axis, angle = sofi.analmat(sym.matrix[i])\n",
    "            # If the molecule is symmetrical under S or I symmetry operations, it's non chiral\n",
    "            if op == 'S':\n",
    "                chiral = False\n",
    "                if abs(angle) < angle_prec:\n",
    "                    mirror_symmetries += 1\n",
    "            elif op == \"I\":\n",
    "                chiral = False\n",
    "\n",
    "    return mirror_symmetries, chiral\n",
    "\n",
    "def find_indices(lst, target=\"failed\", inside=False):\n",
    "    \"\"\"Find indices of specific objects in a list\"\"\"\n",
    "    if inside:\n",
    "        return [i for i, val in enumerate(lst) if target in val]\n",
    "    else:\n",
    "        return [i for i, val in enumerate(lst) if target == val]\n",
    "\n",
    "def find_indices_of_values_that_occur_n_times(lst, n=1):\n",
    "    \"\"\"Outputs indices of values that occur exactly n times\"\"\"\n",
    "    counts = Counter(lst)\n",
    "    # Find values that occur exactly n times\n",
    "    unique_values = [val for val, count in counts.items() if count == n]\n",
    "    # Get the indexes of these unique values\n",
    "    unique_indexes = [i for i, val in enumerate(lst) if val in unique_values]\n",
    "\n",
    "    return unique_indexes\n",
    "\n",
    "def plot_attribute_distribution(attributes, xlabel, title, figsize=(8, 4), saveto=\"mol3d_data/plots/plot.png\", save=False):\n",
    "    \"\"\"Plotting function to help visualize the distributions of molecule attrbutes\"\"\"\n",
    "    counts = Counter(attributes)\n",
    "    # Separate keys and values for plotting\n",
    "    labels = list(counts.keys())\n",
    "    values = list(counts.values())\n",
    "\n",
    "    x = np.arange(len(labels))\n",
    "\n",
    "    # Create a bar chart\n",
    "    plt.figure(figsize=figsize) \n",
    "    plt.bar(x, values)\n",
    "    plt.xticks(x, labels, rotation=90, fontsize=12)\n",
    "    plt.xlabel(xlabel, fontsize=14)\n",
    "    plt.yscale(\"log\")\n",
    "    plt.ylabel('Count', fontsize=14)\n",
    "    plt.title(title, fontsize=16)\n",
    "    if save:\n",
    "        plt.savefig(saveto, bbox_inches='tight', dpi=300)\n",
    "    plt.show()\n",
    "\n",
    "def visualize_molecule(fid=0, idx=42, width=300, height=300, text=True, rings=None, normals=None, planes=False):\n",
    "    \"\"\"Outputs an interactive 3D model of a molecule\"\"\"\n",
    "    coords, atoms = load_atoms_and_coords_hdf5(fid, idx)\n",
    "\n",
    "    if text:\n",
    "        print(f\"Molecule is comprised of {len(atoms)} atoms:\\n{atoms}\")\n",
    "        print(f\"The coordinates are:\\n{coords}\")\n",
    "        \n",
    "    # Create editable molecule and add atoms\n",
    "    molecule = Chem.RWMol()\n",
    "    for atom in atoms:\n",
    "        molecule.AddAtom(Chem.Atom(atom))\n",
    "\n",
    "    # Add 3D conformer\n",
    "    conf = Chem.Conformer(len(atoms))\n",
    "    for i, (x, y, z) in enumerate(coords):\n",
    "        conf.SetAtomPosition(i, rdGeometry.Point3D(float(x), float(y), float(z)))\n",
    "    molecule.AddConformer(conf)\n",
    "\n",
    "    # Figure out bonds\n",
    "    try: rdDetermineBonds.DetermineBonds(molecule)\n",
    "    except Exception as e: print(f\"Bond generation failed: {e}\")\n",
    "    \n",
    "    # Generate MOL block using RDKit’s built-in method to ensure proper 3D representation\n",
    "    mol_block = Chem.MolToMolBlock(molecule)\n",
    "    \n",
    "    # Visualize interactively\n",
    "    view = py3Dmol.view(width=width, height=height)\n",
    "    view.addModel(mol_block, 'mol')\n",
    "    view.setStyle({'stick': {'radius': 0.15}, 'sphere': {'radius': 0.3}})\n",
    "\n",
    "    if planes:\n",
    "        for ring, normal in zip(rings, normals):\n",
    "            ring_coords = coords[ring]\n",
    "            centroid = ring_coords.mean(axis=0)\n",
    "            start = centroid\n",
    "            end = centroid + normal * 1.0  # scale arrow for visibility\n",
    "        \n",
    "            arrow = {\n",
    "                'start': {'x': float(start[0]), 'y': float(start[1]), 'z': float(start[2])},\n",
    "                'end':   {'x': float(end[0]),   'y': float(end[1]),   'z': float(end[2])},\n",
    "                'color': 'red',\n",
    "                'radius': 0.05\n",
    "            }\n",
    "            view.addArrow(arrow)\n",
    "    \n",
    "    view.zoomTo()\n",
    "    view.show()"
   ]
  },
  {
   "cell_type": "code",
   "execution_count": 1105,
   "id": "e7c745cb-7572-4ef9-acdd-a356280dc689",
   "metadata": {},
   "outputs": [],
   "source": [
    "molecule_files = [\"mol3d_data/mol3d_mil1.h5\",\n",
    "                  \"mol3d_data/mol3d_mil2.h5\",\n",
    "                  \"mol3d_data/mol3d_mil3.h5\",\n",
    "                  \"mol3d_data/mol3d_mil4.h5\"]\n",
    "feature_files = [\"mol3d_data/mol3d_feat_mil1.h5\",\n",
    "                \"mol3d_data/mol3d_feat_mil2.h5\",\n",
    "                \"mol3d_data/mol3d_feat_mil3.h5\",\n",
    "                \"mol3d_data/mol3d_feat_mil4.h5\",]\n",
    "fid = 3"
   ]
  },
  {
   "cell_type": "code",
   "execution_count": 26,
   "id": "f379e95e-e482-4153-9ea4-2c99ec521e8f",
   "metadata": {
    "jupyter": {
     "source_hidden": true
    }
   },
   "outputs": [],
   "source": [
    "ring_counts, all_rings = load_rings(fid)"
   ]
  },
  {
   "cell_type": "code",
   "execution_count": 137,
   "id": "17f02cfc-98b8-4a85-826d-4e40548f2db2",
   "metadata": {
    "jupyter": {
     "source_hidden": true
    }
   },
   "outputs": [],
   "source": [
    "n=-1"
   ]
  },
  {
   "cell_type": "code",
   "execution_count": 612,
   "id": "6e472784-4a05-4495-856e-830709e4b0f6",
   "metadata": {
    "collapsed": true,
    "jupyter": {
     "outputs_hidden": true,
     "source_hidden": true
    },
    "scrolled": true
   },
   "outputs": [
    {
     "name": "stdout",
     "output_type": "stream",
     "text": [
      "Structure has 2 atoms\n",
      "Atom types: ['B', 'Cl']\n",
      "Atom type mapping: {'B': 1, 'Cl': 2}\n",
      "Symmetry threshold used: adaptive\n",
      "Point Group: C1\n",
      "Number of symmetry operations: 1\n",
      "Number of principal axes: 1\n",
      "Principal axes:\n",
      "  Axis 1: [1.000000, 0.000000, 0.000000]\n",
      "\n",
      "Symmetry operations:\n",
      "  1: E0^1, axis=[1.000, 0.000, 0.000], angle=0.000\n",
      "Geometric center: [1.74590003 0.0416     0.079     ]\n",
      "\n",
      "Hausdorff distances: [0.]\n",
      "\n",
      "*** LINEAR MOLECULE DETECTED ***\n",
      "Structure is linear along axis: [1.000, 0.000, 0.000]\n",
      "Corrected Point Group: Cnv (linear molecule without inversion)\n",
      "\n",
      "Molecule is 1D\n",
      "Standard deviation out of line/plane: 0.000 Å\n",
      "Relative non linearity/flatness: 0.0%\n",
      "\n",
      "The molecule has 0 vertical mirror plane(s)\n",
      "The molecule is achiral\n",
      "\n",
      "The molecule is comprised of 0 rings:\n",
      "Bond generation failed: Final molecular charge (0) does not match input (2); could not find valid bond ordering\n"
     ]
    },
    {
     "data": {
      "application/3dmoljs_load.v0": "<div id=\"3dmolviewer_17583776765297608\"  style=\"position: relative; width: 300px; height: 300px;\">\n        <p id=\"3dmolwarning_17583776765297608\" style=\"background-color:#ffcccc;color:black\">3Dmol.js failed to load for some reason.  Please check your browser console for error messages.<br></p>\n        </div>\n<script>\n\nvar loadScriptAsync = function(uri){\n  return new Promise((resolve, reject) => {\n    //this is to ignore the existence of requirejs amd\n    var savedexports, savedmodule;\n    if (typeof exports !== 'undefined') savedexports = exports;\n    else exports = {}\n    if (typeof module !== 'undefined') savedmodule = module;\n    else module = {}\n\n    var tag = document.createElement('script');\n    tag.src = uri;\n    tag.async = true;\n    tag.onload = () => {\n        exports = savedexports;\n        module = savedmodule;\n        resolve();\n    };\n  var firstScriptTag = document.getElementsByTagName('script')[0];\n  firstScriptTag.parentNode.insertBefore(tag, firstScriptTag);\n});\n};\n\nif(typeof $3Dmolpromise === 'undefined') {\n$3Dmolpromise = null;\n  $3Dmolpromise = loadScriptAsync('https://cdn.jsdelivr.net/npm/3dmol@2.5.2/build/3Dmol-min.js');\n}\n\nvar viewer_17583776765297608 = null;\nvar warn = document.getElementById(\"3dmolwarning_17583776765297608\");\nif(warn) {\n    warn.parentNode.removeChild(warn);\n}\n$3Dmolpromise.then(function() {\nviewer_17583776765297608 = $3Dmol.createViewer(document.getElementById(\"3dmolviewer_17583776765297608\"),{backgroundColor:\"white\"});\nviewer_17583776765297608.zoomTo();\n\tviewer_17583776765297608.addModel(\"\\n     RDKit          3D\\n\\n  2  1  0  0  0  0  0  0  0  0999 V2000\\n    0.8852    0.0416    0.0790 B   0  0  0  0  0  0  0  0  0  0  0  0\\n    2.6066    0.0416    0.0790 Cl  0  0  0  0  0  0  0  0  0  0  0  0\\n  2  1  1  0\\nM  CHG  1   1   2\\nM  END\\n\",\"mol\");\n\tviewer_17583776765297608.setStyle({\"stick\": {\"radius\": 0.15}, \"sphere\": {\"radius\": 0.3}});\n\tviewer_17583776765297608.zoomTo();\nviewer_17583776765297608.render();\n});\n</script>",
      "text/html": [
       "<div id=\"3dmolviewer_17583776765297608\"  style=\"position: relative; width: 300px; height: 300px;\">\n",
       "        <p id=\"3dmolwarning_17583776765297608\" style=\"background-color:#ffcccc;color:black\">3Dmol.js failed to load for some reason.  Please check your browser console for error messages.<br></p>\n",
       "        </div>\n",
       "<script>\n",
       "\n",
       "var loadScriptAsync = function(uri){\n",
       "  return new Promise((resolve, reject) => {\n",
       "    //this is to ignore the existence of requirejs amd\n",
       "    var savedexports, savedmodule;\n",
       "    if (typeof exports !== 'undefined') savedexports = exports;\n",
       "    else exports = {}\n",
       "    if (typeof module !== 'undefined') savedmodule = module;\n",
       "    else module = {}\n",
       "\n",
       "    var tag = document.createElement('script');\n",
       "    tag.src = uri;\n",
       "    tag.async = true;\n",
       "    tag.onload = () => {\n",
       "        exports = savedexports;\n",
       "        module = savedmodule;\n",
       "        resolve();\n",
       "    };\n",
       "  var firstScriptTag = document.getElementsByTagName('script')[0];\n",
       "  firstScriptTag.parentNode.insertBefore(tag, firstScriptTag);\n",
       "});\n",
       "};\n",
       "\n",
       "if(typeof $3Dmolpromise === 'undefined') {\n",
       "$3Dmolpromise = null;\n",
       "  $3Dmolpromise = loadScriptAsync('https://cdn.jsdelivr.net/npm/3dmol@2.5.2/build/3Dmol-min.js');\n",
       "}\n",
       "\n",
       "var viewer_17583776765297608 = null;\n",
       "var warn = document.getElementById(\"3dmolwarning_17583776765297608\");\n",
       "if(warn) {\n",
       "    warn.parentNode.removeChild(warn);\n",
       "}\n",
       "$3Dmolpromise.then(function() {\n",
       "viewer_17583776765297608 = $3Dmol.createViewer(document.getElementById(\"3dmolviewer_17583776765297608\"),{backgroundColor:\"white\"});\n",
       "viewer_17583776765297608.zoomTo();\n",
       "\tviewer_17583776765297608.addModel(\"\\n     RDKit          3D\\n\\n  2  1  0  0  0  0  0  0  0  0999 V2000\\n    0.8852    0.0416    0.0790 B   0  0  0  0  0  0  0  0  0  0  0  0\\n    2.6066    0.0416    0.0790 Cl  0  0  0  0  0  0  0  0  0  0  0  0\\n  2  1  1  0\\nM  CHG  1   1   2\\nM  END\\n\",\"mol\");\n",
       "\tviewer_17583776765297608.setStyle({\"stick\": {\"radius\": 0.15}, \"sphere\": {\"radius\": 0.3}});\n",
       "\tviewer_17583776765297608.zoomTo();\n",
       "viewer_17583776765297608.render();\n",
       "});\n",
       "</script>"
      ]
     },
     "metadata": {},
     "output_type": "display_data"
    }
   ],
   "source": [
    "n += 1\n",
    "sym = test_functions_on_a_molecule(fid, n)"
   ]
  },
  {
   "cell_type": "code",
   "execution_count": 1106,
   "id": "06445909-c8b2-4c92-ad60-eef1a735c0a7",
   "metadata": {
    "collapsed": true,
    "jupyter": {
     "outputs_hidden": true,
     "source_hidden": true
    },
    "scrolled": true
   },
   "outputs": [
    {
     "name": "stdout",
     "output_type": "stream",
     "text": [
      "\n",
      "Symmetry analysis for molecule 716988 failed: nonzero error value obtained from libira_compute_all()\n",
      " %%%%%%%%%%%%%%%%%%%%%%%%%%%%%%%%%%%%%%%%\n",
      " ERROR: cannot set beta. Structure not properly shifted?\n",
      " %%%%%%%%%%%%%%%%%%%%%%%%%%%%%%%%%%%%%%%%\n",
      " small norm:  0.46499999999999997     \n",
      "           4\n",
      " i=           1 j=           5\n",
      "           4  0.37399999797344208      -0.17877499014139175      -0.27667498216032982     \n",
      "           2 -0.92270000278949738       0.30412500351667404       0.47152503207325935     \n",
      "           1  -1.1180999428033829       0.84122499078512192        1.3030249662697315     \n",
      "           3   1.6667999476194382      -0.96657500416040421       -1.4978750161826611     \n",
      " origin at: /home/turih/IterativeRotationsAssignments/src/sofi_routines.f90 line:         454\n",
      " at: /home/turih/IterativeRotationsAssignments/src/sofi_routines.f90 line:         100\n",
      "      ERROR FROM IRA/SOFI library ::: Cannot set beta basis!\n",
      "\n",
      "Symmetry analysis for molecule 740608 failed: nonzero error value obtained from libira_compute_all() %%%%%%%%%%%%%%%%%%%%%%%%%%%%%%%%%%%%%%%%\n",
      " ERROR: cannot set beta. Structure not properly shifted?\n",
      " %%%%%%%%%%%%%%%%%%%%%%%%%%%%%%%%%%%%%%%%\n",
      " small norm:  0.46499999999999997     \n",
      "          10\n",
      " i=           1 j=          11\n",
      "           1  0.62321985363960231        3.3999942243099213E-003   1.3629999943077564E-002\n",
      "           1 -0.66588007807731664       -1.4800000935792923E-002  -9.8700011149048805E-003\n",
      "           1   1.8945201694965359        8.9999996125698090E-003   4.7030000947415829E-002\n",
      "           1  -1.9386800467967991       -3.3500004559755325E-002  -3.4669996239244938E-002\n",
      "           1   3.2108200848102566        2.2999979555606842E-003   8.9530001394450665E-002\n",
      "           1  -3.2557800352573398       -5.4600004106760025E-002  -6.0070001520216465E-002\n",
      "           3  -3.8284800291061405       0.74699997529387474      -0.52186997327953577     \n",
      "           3   3.8214200794696804      -0.77569997683167458       0.53852997627109289     \n",
      "           3  -3.8194800257682804      -0.876100\n",
      "00744462013       0.37712998595088720     \n",
      "           2   3.9583200275897976       0.99300002679228783      -0.43936999235302210     \n",
      " origin at: /home/turih/IterativeRotationsAssignments/src/sofi_routines.f90 line:         454\n",
      " at: /home/turih/IterativeRotationsAssignments/src/sofi_routines.f90 line:         100\n",
      "      ERROR FROM IRA/SOFI library ::: Cannot set beta basis!\n"
     ]
    }
   ],
   "source": [
    "point_groups, dimensions, symmetry_planes, chiralities = symmetry_and_dimensionality_analysis_of_data(fid)"
   ]
  },
  {
   "cell_type": "code",
   "execution_count": 1166,
   "id": "dbd0cf2b-4f6c-4e30-8db6-a749c98a1773",
   "metadata": {
    "collapsed": true,
    "jupyter": {
     "outputs_hidden": true,
     "source_hidden": true
    }
   },
   "outputs": [
    {
     "data": {
      "image/png": "[encoded data removed]",
      "text/plain": [
       "<Figure size 800x400 with 1 Axes>"
      ]
     },
     "metadata": {},
     "output_type": "display_data"
    }
   ],
   "source": [
    "plot_attribute_distribution(point_groups, 'Attributes of molecules', f'Attributes of {len(point_groups)} molecules')"
   ]
  },
  {
   "cell_type": "code",
   "execution_count": 1167,
   "id": "cbf9f760-fb26-4f79-8e46-272d628f258f",
   "metadata": {
    "jupyter": {
     "source_hidden": true
    }
   },
   "outputs": [
    {
     "name": "stdout",
     "output_type": "stream",
     "text": [
      "0\n"
     ]
    }
   ],
   "source": [
    "ind = find_indices(point_groups, \"failed\", inside=False)\n",
    "print(len(ind))"
   ]
  },
  {
   "cell_type": "code",
   "execution_count": 1165,
   "id": "8af4288f-ce0b-4148-8f25-ab5a53764b41",
   "metadata": {
    "jupyter": {
     "source_hidden": true
    }
   },
   "outputs": [
    {
     "name": "stdout",
     "output_type": "stream",
     "text": [
      "3\n"
     ]
    }
   ],
   "source": [
    "ind = find_indices_of_values_that_occur_n_times(point_groups, 3)\n",
    "print(len(ind))"
   ]
  },
  {
   "cell_type": "code",
   "execution_count": 1157,
   "id": "f601f9b4-a6a3-49a6-a5d2-8634e93557d9",
   "metadata": {
    "jupyter": {
     "source_hidden": true
    }
   },
   "outputs": [],
   "source": [
    "n=-1"
   ]
  },
  {
   "cell_type": "code",
   "execution_count": 1162,
   "id": "89ad5465-cdd9-4e3a-b837-e82bde6e9b11",
   "metadata": {
    "collapsed": true,
    "jupyter": {
     "outputs_hidden": true,
     "source_hidden": true
    },
    "scrolled": true
   },
   "outputs": [
    {
     "data": {
      "application/3dmoljs_load.v0": "<div id=\"3dmolviewer_1758385611592466\"  style=\"position: relative; width: 300px; height: 300px;\">\n        <p id=\"3dmolwarning_1758385611592466\" style=\"background-color:#ffcccc;color:black\">3Dmol.js failed to load for some reason.  Please check your browser console for error messages.<br></p>\n        </div>\n<script>\n\nvar loadScriptAsync = function(uri){\n  return new Promise((resolve, reject) => {\n    //this is to ignore the existence of requirejs amd\n    var savedexports, savedmodule;\n    if (typeof exports !== 'undefined') savedexports = exports;\n    else exports = {}\n    if (typeof module !== 'undefined') savedmodule = module;\n    else module = {}\n\n    var tag = document.createElement('script');\n    tag.src = uri;\n    tag.async = true;\n    tag.onload = () => {\n        exports = savedexports;\n        module = savedmodule;\n        resolve();\n    };\n  var firstScriptTag = document.getElementsByTagName('script')[0];\n  firstScriptTag.parentNode.insertBefore(tag, firstScriptTag);\n});\n};\n\nif(typeof $3Dmolpromise === 'undefined') {\n$3Dmolpromise = null;\n  $3Dmolpromise = loadScriptAsync('https://cdn.jsdelivr.net/npm/3dmol@2.5.2/build/3Dmol-min.js');\n}\n\nvar viewer_1758385611592466 = null;\nvar warn = document.getElementById(\"3dmolwarning_1758385611592466\");\nif(warn) {\n    warn.parentNode.removeChild(warn);\n}\n$3Dmolpromise.then(function() {\nviewer_1758385611592466 = $3Dmol.createViewer(document.getElementById(\"3dmolviewer_1758385611592466\"),{backgroundColor:\"white\"});\nviewer_1758385611592466.zoomTo();\n\tviewer_1758385611592466.addModel(\"\\n     RDKit          3D\\n\\n 12 12  0  0  0  0  0  0  0  0999 V2000\\n   -0.7610    1.1707   -0.0003 C   0  0  0  0  0  0  0  0  0  0  0  0\\n   -1.3926   -0.0750   -0.0001 C   0  0  0  0  0  0  0  0  0  0  0  0\\n    0.6335    1.2464   -0.0002 C   0  0  0  0  0  0  0  0  0  0  0  0\\n   -0.6296   -1.2448    0.0014 C   0  0  0  0  0  0  0  0  0  0  0  0\\n    1.3965    0.0766    0.0014 C   0  0  0  0  0  0  0  0  0  0  0  0\\n    0.7649   -1.1691    0.0015 C   0  0  0  0  0  0  0  0  0  0  0  0\\n   -1.3549    2.0811   -0.0013 H   0  0  0  0  0  0  0  0  0  0  0  0\\n   -2.4780   -0.1341    0.0002 H   0  0  0  0  0  0  0  0  0  0  0  0\\n    1.1252    2.2159    0.0000 H   0  0  0  0  0  0  0  0  0  0  0  0\\n   -1.1213   -2.2143    0.0017 H   0  0  0  0  0  0  0  0  0  0  0  0\\n    2.4819    0.1358    0.0015 H   0  0  0  0  0  0  0  0  0  0  0  0\\n    1.3588   -2.0795    0.0029 H   0  0  0  0  0  0  0  0  0  0  0  0\\n  2  1  2  0\\n  3  1  1  0\\n  4  2  1  0\\n  5  3  2  0\\n  6  5  1  0\\n  6  4  2  0\\n  7  1  1  0\\n  8  2  1  0\\n  9  3  1  0\\n 10  4  1  0\\n 11  5  1  0\\n 12  6  1  0\\nM  END\\n\",\"mol\");\n\tviewer_1758385611592466.setStyle({\"stick\": {\"radius\": 0.15}, \"sphere\": {\"radius\": 0.3}});\n\tviewer_1758385611592466.zoomTo();\nviewer_1758385611592466.render();\n});\n</script>",
      "text/html": [
       "<div id=\"3dmolviewer_1758385611592466\"  style=\"position: relative; width: 300px; height: 300px;\">\n",
       "        <p id=\"3dmolwarning_1758385611592466\" style=\"background-color:#ffcccc;color:black\">3Dmol.js failed to load for some reason.  Please check your browser console for error messages.<br></p>\n",
       "        </div>\n",
       "<script>\n",
       "\n",
       "var loadScriptAsync = function(uri){\n",
       "  return new Promise((resolve, reject) => {\n",
       "    //this is to ignore the existence of requirejs amd\n",
       "    var savedexports, savedmodule;\n",
       "    if (typeof exports !== 'undefined') savedexports = exports;\n",
       "    else exports = {}\n",
       "    if (typeof module !== 'undefined') savedmodule = module;\n",
       "    else module = {}\n",
       "\n",
       "    var tag = document.createElement('script');\n",
       "    tag.src = uri;\n",
       "    tag.async = true;\n",
       "    tag.onload = () => {\n",
       "        exports = savedexports;\n",
       "        module = savedmodule;\n",
       "        resolve();\n",
       "    };\n",
       "  var firstScriptTag = document.getElementsByTagName('script')[0];\n",
       "  firstScriptTag.parentNode.insertBefore(tag, firstScriptTag);\n",
       "});\n",
       "};\n",
       "\n",
       "if(typeof $3Dmolpromise === 'undefined') {\n",
       "$3Dmolpromise = null;\n",
       "  $3Dmolpromise = loadScriptAsync('https://cdn.jsdelivr.net/npm/3dmol@2.5.2/build/3Dmol-min.js');\n",
       "}\n",
       "\n",
       "var viewer_1758385611592466 = null;\n",
       "var warn = document.getElementById(\"3dmolwarning_1758385611592466\");\n",
       "if(warn) {\n",
       "    warn.parentNode.removeChild(warn);\n",
       "}\n",
       "$3Dmolpromise.then(function() {\n",
       "viewer_1758385611592466 = $3Dmol.createViewer(document.getElementById(\"3dmolviewer_1758385611592466\"),{backgroundColor:\"white\"});\n",
       "viewer_1758385611592466.zoomTo();\n",
       "\tviewer_1758385611592466.addModel(\"\\n     RDKit          3D\\n\\n 12 12  0  0  0  0  0  0  0  0999 V2000\\n   -0.7610    1.1707   -0.0003 C   0  0  0  0  0  0  0  0  0  0  0  0\\n   -1.3926   -0.0750   -0.0001 C   0  0  0  0  0  0  0  0  0  0  0  0\\n    0.6335    1.2464   -0.0002 C   0  0  0  0  0  0  0  0  0  0  0  0\\n   -0.6296   -1.2448    0.0014 C   0  0  0  0  0  0  0  0  0  0  0  0\\n    1.3965    0.0766    0.0014 C   0  0  0  0  0  0  0  0  0  0  0  0\\n    0.7649   -1.1691    0.0015 C   0  0  0  0  0  0  0  0  0  0  0  0\\n   -1.3549    2.0811   -0.0013 H   0  0  0  0  0  0  0  0  0  0  0  0\\n   -2.4780   -0.1341    0.0002 H   0  0  0  0  0  0  0  0  0  0  0  0\\n    1.1252    2.2159    0.0000 H   0  0  0  0  0  0  0  0  0  0  0  0\\n   -1.1213   -2.2143    0.0017 H   0  0  0  0  0  0  0  0  0  0  0  0\\n    2.4819    0.1358    0.0015 H   0  0  0  0  0  0  0  0  0  0  0  0\\n    1.3588   -2.0795    0.0029 H   0  0  0  0  0  0  0  0  0  0  0  0\\n  2  1  2  0\\n  3  1  1  0\\n  4  2  1  0\\n  5  3  2  0\\n  6  5  1  0\\n  6  4  2  0\\n  7  1  1  0\\n  8  2  1  0\\n  9  3  1  0\\n 10  4  1  0\\n 11  5  1  0\\n 12  6  1  0\\nM  END\\n\",\"mol\");\n",
       "\tviewer_1758385611592466.setStyle({\"stick\": {\"radius\": 0.15}, \"sphere\": {\"radius\": 0.3}});\n",
       "\tviewer_1758385611592466.zoomTo();\n",
       "viewer_1758385611592466.render();\n",
       "});\n",
       "</script>"
      ]
     },
     "metadata": {},
     "output_type": "display_data"
    },
    {
     "name": "stdout",
     "output_type": "stream",
     "text": [
      "Molecule dimension: 2D\n",
      "Point group: D6h\n",
      "Number of vertical symmetry planes: 6\n",
      "Molecule is geometrically achiral\n"
     ]
    }
   ],
   "source": [
    "n+=1\n",
    "mid = ind[n]\n",
    "visualize_molecule(fid, mid, text=False)\n",
    "print(f\"Molecule dimension: {dimensions[mid]}\\nPoint group: {point_groups[mid]}\\nNumber of vertical symmetry planes: {symmetry_planes[mid]}\")\n",
    "if chiralities[mid] == True: print(\"Molecule is geometrically chiral\")\n",
    "elif chiralities[mid] == False: print(\"Molecule is geometrically achiral\")\n",
    "else: print(\"Chirality determination failed\")\n",
    "\n",
    "# # dimensions[mid] = \"\"\n",
    "# point_groups[mid] = \"Cs\"\n",
    "# symmetry_planes[mid] = 0\n",
    "# chiralities[mid] = False"
   ]
  },
  {
   "cell_type": "code",
   "execution_count": 1158,
   "id": "f1be778a-0d14-4675-9d44-8de143324067",
   "metadata": {
    "jupyter": {
     "source_hidden": true
    }
   },
   "outputs": [],
   "source": [
    "# dimensions[mid] = \"\"\n",
    "point_groups[mid] = \"Cs\"\n",
    "symmetry_planes[mid] = 1\n",
    "chiralities[mid] = False"
   ]
  },
  {
   "cell_type": "code",
   "execution_count": 1168,
   "id": "fc5c519b-904d-4749-8fdc-9b14c5d75fc9",
   "metadata": {
    "collapsed": true,
    "jupyter": {
     "outputs_hidden": true,
     "source_hidden": true
    }
   },
   "outputs": [
    {
     "name": "stdout",
     "output_type": "stream",
     "text": [
      "Saving symmetry data...\n",
      "All features saved successfully!\n"
     ]
    }
   ],
   "source": [
    "with h5py.File(f\"mol3d_data/mol3d_feat_mil{fid+1}.h5\", \"a\") as f:\n",
    "    print(\"Saving symmetry data...\")\n",
    "    # Save dimensions (strings)\n",
    "    dt_str = h5py.string_dtype(encoding='utf-8')\n",
    "    f.create_dataset(\"dimensions\", data=np.array(dimensions, dtype=dt_str))\n",
    "\n",
    "    # Save point groups (strings)\n",
    "    f.create_dataset(\"point_groups\", data=np.array(point_groups, dtype=dt_str))\n",
    "\n",
    "    # Save symmetry_planes (integers)\n",
    "    f.create_dataset(\"symmetry_planes\", data=np.array(symmetry_planes, dtype=np.int32))\n",
    "\n",
    "    # Save chiralities (booleans)\n",
    "    f.create_dataset(\"chiralities\", data=np.array(chiralities, dtype=np.bool_))\n",
    "    print(\"All features saved successfully!\")"
   ]
  },
  {
   "cell_type": "code",
   "execution_count": 19,
   "id": "927bc4cd-6f36-43eb-90fc-6b5137afb16c",
   "metadata": {
    "collapsed": true,
    "jupyter": {
     "outputs_hidden": true,
     "source_hidden": true
    }
   },
   "outputs": [
    {
     "name": "stdout",
     "output_type": "stream",
     "text": [
      "Saving ring planar features...\n",
      "Saving ring planar features...\n",
      "Saving ring planar features...\n"
     ]
    }
   ],
   "source": [
    "for fid in [1, 2, 3, 4]:\n",
    "    ring_non_planarities, angles_between_rings = ring_planar_fits_and_angles(molecule_files[fid-1], feature_files[fid-1])\n",
    "    with h5py.File(f\"mol3d_data/mol3d_feat_mil{fid}.h5\", \"a\") as f:\n",
    "        print(\"Saving ring planar features...\")\n",
    "        ring_non_planarities = np.array(ring_non_planarities, dtype=np.float32)\n",
    "        f.create_dataset(\"errors\", data=ring_non_planarities)\n",
    "        # Define compound dtype: two int32s + one float32\n",
    "        angles_dtype = np.dtype([(\"i\", np.int32), (\"j\", np.int32), (\"val\", np.float32)])\n",
    "    \n",
    "        # Convert to structured array\n",
    "        angles_arr = np.array(angles_between_rings, dtype=angles_dtype)\n",
    "        f.create_dataset(\"plane_angles\", data=angles_arr)"
   ]
  }
 ],
 "metadata": {
  "kernelspec": {
   "display_name": "Python 3 (ipykernel)",
   "language": "python",
   "name": "python3"
  },
  "language_info": {
   "codemirror_mode": {
    "name": "ipython",
    "version": 3
   },
   "file_extension": ".py",
   "mimetype": "text/x-python",
   "name": "python",
   "nbconvert_exporter": "python",
   "pygments_lexer": "ipython3",
   "version": "3.12.3"
  }
 },
 "nbformat": 4,
 "nbformat_minor": 5
}
